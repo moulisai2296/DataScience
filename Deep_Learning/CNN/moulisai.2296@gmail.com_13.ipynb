{
 "cells": [
  {
   "cell_type": "markdown",
   "metadata": {
    "colab_type": "text",
    "id": "NwjW224dqjgU"
   },
   "source": [
    "## **CNN ARCHITECTURES on MNIST**"
   ]
  },
  {
   "cell_type": "code",
   "execution_count": 24,
   "metadata": {
    "colab": {
     "base_uri": "https://localhost:8080/",
     "height": 52
    },
    "colab_type": "code",
    "id": "IamCKmZFqAez",
    "outputId": "e6988438-35bc-4644-9161-84ea823a796d"
   },
   "outputs": [
    {
     "name": "stdout",
     "output_type": "stream",
     "text": [
      "TensorFlow is already loaded. Please restart the runtime to change versions.\n",
      "1.14.0\n"
     ]
    }
   ],
   "source": [
    "#Using Tensor flow version 2.0\n",
    "#%tensorflow_version 2.x\n",
    "#import tensorflow as tf\n",
    "#from tensorflow import keras\n",
    "#print(tf.__version__)"
   ]
  },
  {
   "cell_type": "code",
   "execution_count": 1,
   "metadata": {
    "colab": {
     "base_uri": "https://localhost:8080/",
     "height": 81
    },
    "colab_type": "code",
    "id": "CF3H3RpN6L1k",
    "outputId": "6d9f7479-5f7f-4f22-ce2d-6166d287f86f"
   },
   "outputs": [
    {
     "data": {
      "text/html": [
       "<p style=\"color: red;\">\n",
       "The default version of TensorFlow in Colab will soon switch to TensorFlow 2.x.<br>\n",
       "We recommend you <a href=\"https://www.tensorflow.org/guide/migrate\" target=\"_blank\">upgrade</a> now \n",
       "or ensure your notebook will continue to use TensorFlow 1.x via the <code>%tensorflow_version 1.x</code> magic:\n",
       "<a href=\"https://colab.research.google.com/notebooks/tensorflow_version.ipynb\" target=\"_blank\">more info</a>.</p>\n"
      ],
      "text/plain": [
       "<IPython.core.display.HTML object>"
      ]
     },
     "metadata": {
      "tags": []
     },
     "output_type": "display_data"
    },
    {
     "name": "stdout",
     "output_type": "stream",
     "text": [
      "1.15.0\n"
     ]
    }
   ],
   "source": [
    "import tensorflow as tf\n",
    "from tensorflow import keras\n",
    "print(tf.__version__)"
   ]
  },
  {
   "cell_type": "code",
   "execution_count": 0,
   "metadata": {
    "colab": {},
    "colab_type": "code",
    "id": "QxZLD8t-5kBK"
   },
   "outputs": [],
   "source": [
    "#DEGRADING TO LOWER VERSION\n",
    "#!pip install tensorflow==1.14.0\n",
    "#import tensorflow as tf\n",
    "#print(tf.__version__)"
   ]
  },
  {
   "cell_type": "markdown",
   "metadata": {
    "colab_type": "text",
    "id": "xCv01CSvtzE4"
   },
   "source": [
    "**STEP 1: LOADING THE DATA**"
   ]
  },
  {
   "cell_type": "code",
   "execution_count": 3,
   "metadata": {
    "colab": {
     "base_uri": "https://localhost:8080/",
     "height": 70
    },
    "colab_type": "code",
    "id": "1dY-y_2bs12t",
    "outputId": "1d78de24-bfc1-4de3-bf77-7c1e1a45de85"
   },
   "outputs": [
    {
     "name": "stdout",
     "output_type": "stream",
     "text": [
      "Downloading data from https://storage.googleapis.com/tensorflow/tf-keras-datasets/mnist.npz\n",
      "11493376/11490434 [==============================] - 0s 0us/step\n",
      "DATASET LOADED SUCCESSFULLY\n"
     ]
    }
   ],
   "source": [
    "#https://www.tensorflow.org/tutorials/keras/classification\n",
    "m  = keras.datasets.mnist                                                 #Import and load the MNIST data directly from TensorFlow\n",
    "(train_images, train_labels), (test_images, test_labels) = m.load_data()  #Dividing data into two parts train and test.Loading the dataset returns four NumPy arrays\n",
    "print(\"DATASET LOADED SUCCESSFULLY\")"
   ]
  },
  {
   "cell_type": "markdown",
   "metadata": {
    "colab_type": "text",
    "id": "qjsxpzBIt9IT"
   },
   "source": [
    "**STEP 2 : EXPLORING THE DATA**"
   ]
  },
  {
   "cell_type": "code",
   "execution_count": 4,
   "metadata": {
    "colab": {
     "base_uri": "https://localhost:8080/",
     "height": 87
    },
    "colab_type": "code",
    "id": "2a-ukDIquKdW",
    "outputId": "679cc720-1296-4450-9cc1-904926ada5c1"
   },
   "outputs": [
    {
     "name": "stdout",
     "output_type": "stream",
     "text": [
      "(60000, 28, 28)\n",
      "(60000,)\n",
      "(10000, 28, 28)\n",
      "(10000,)\n"
     ]
    }
   ],
   "source": [
    "#Shape of Train and test datapoints\n",
    "print(train_images.shape)\n",
    "print(train_labels.shape)\n",
    "print(test_images.shape)\n",
    "print(test_labels.shape)"
   ]
  },
  {
   "cell_type": "code",
   "execution_count": 5,
   "metadata": {
    "colab": {
     "base_uri": "https://localhost:8080/",
     "height": 52
    },
    "colab_type": "code",
    "id": "GdjIOsaDupLo",
    "outputId": "4c6f35be-42dd-4ab3-f0cd-fbd99e33d7a5"
   },
   "outputs": [
    {
     "name": "stdout",
     "output_type": "stream",
     "text": [
      "number of data points in train_images :  60000 number of pixels in each train image : 28\n",
      "number of data points in test_images :  10000 number of pixels in each test image : 28\n"
     ]
    }
   ],
   "source": [
    "print(\"number of data points in train_images : \", train_images.shape[0],\"number of pixels in each train image :\",train_images.shape[1])\n",
    "print(\"number of data points in test_images : \", test_images.shape[0],\"number of pixels in each test image :\",test_images.shape[1])"
   ]
  },
  {
   "cell_type": "markdown",
   "metadata": {
    "colab_type": "text",
    "id": "2USigTYYujUU"
   },
   "source": [
    "**There are 60000 Train datapoints and 10000 test datapoints with 28x28 size.**"
   ]
  },
  {
   "cell_type": "markdown",
   "metadata": {
    "colab_type": "text",
    "id": "FiWB44ijv4Sp"
   },
   "source": [
    "**STEP 3 : PREPROCESSING THE DATA**"
   ]
  },
  {
   "cell_type": "code",
   "execution_count": 0,
   "metadata": {
    "colab": {},
    "colab_type": "code",
    "id": "oEYvggsuv8-j"
   },
   "outputs": [],
   "source": [
    "# convert class vectors to binary class matrices\n",
    "num_classes=10\n",
    "train_labels = keras.utils.to_categorical(train_labels, num_classes)\n",
    "test_labels = keras.utils.to_categorical(test_labels, num_classes)"
   ]
  },
  {
   "cell_type": "code",
   "execution_count": 7,
   "metadata": {
    "colab": {
     "base_uri": "https://localhost:8080/",
     "height": 52
    },
    "colab_type": "code",
    "id": "Z1sd2ToewZkp",
    "outputId": "0c3697f9-28b7-4848-a678-66ba700400bd"
   },
   "outputs": [
    {
     "name": "stdout",
     "output_type": "stream",
     "text": [
      "<class 'numpy.ndarray'>\n",
      "[0. 0. 0. 0. 0. 1. 0. 0. 0. 0.]\n"
     ]
    }
   ],
   "source": [
    "print(type(train_labels))\n",
    "print(train_labels[0])"
   ]
  },
  {
   "cell_type": "code",
   "execution_count": 8,
   "metadata": {
    "colab": {
     "base_uri": "https://localhost:8080/",
     "height": 266
    },
    "colab_type": "code",
    "id": "SPnHw5bIwm4y",
    "outputId": "f52bce5b-2565-42f4-e6f7-56db8215125c"
   },
   "outputs": [
    {
     "data": {
      "image/png": "[encoded data removed]",
      "text/plain": [
       "<Figure size 432x288 with 2 Axes>"
      ]
     },
     "metadata": {
      "tags": []
     },
     "output_type": "display_data"
    }
   ],
   "source": [
    "#Printing first image\n",
    "import matplotlib.pyplot as plt\n",
    "plt.figure()\n",
    "plt.imshow(train_images[10])\n",
    "plt.colorbar()\n",
    "plt.grid(False)\n",
    "plt.show()"
   ]
  },
  {
   "cell_type": "code",
   "execution_count": 0,
   "metadata": {
    "colab": {},
    "colab_type": "code",
    "id": "7Ura9F58wy53"
   },
   "outputs": [],
   "source": [
    "train_images = train_images / 255.0\n",
    "test_images = test_images / 255.0"
   ]
  },
  {
   "cell_type": "code",
   "execution_count": 10,
   "metadata": {
    "colab": {
     "base_uri": "https://localhost:8080/",
     "height": 34
    },
    "colab_type": "code",
    "id": "CiWnrf-x2g48",
    "outputId": "f36cf278-48ce-4411-ab0c-5cc0205a6b5e"
   },
   "outputs": [
    {
     "name": "stderr",
     "output_type": "stream",
     "text": [
      "Using TensorFlow backend.\n"
     ]
    }
   ],
   "source": [
    "# input image dimensions\n",
    "from keras import backend as K\n",
    "img_rows, img_cols = 28, 28\n",
    "\n",
    "if K.image_data_format() == 'channels_first':\n",
    "    train_images = train_images.reshape(train_images.shape[0], 1, img_rows, img_cols)\n",
    "    test_images = test_images.reshape(test_images[0], 1, img_rows, img_cols)\n",
    "    input_shape = (1, img_rows, img_cols)\n",
    "else:\n",
    "    train_images = train_images.reshape(train_images.shape[0], img_rows, img_cols, 1)\n",
    "    test_images = test_images.reshape(test_images.shape[0], img_rows, img_cols, 1)\n",
    "    input_shape = (img_rows, img_cols, 1)"
   ]
  },
  {
   "cell_type": "code",
   "execution_count": 11,
   "metadata": {
    "colab": {
     "base_uri": "https://localhost:8080/",
     "height": 52
    },
    "colab_type": "code",
    "id": "btCSHATD3bc3",
    "outputId": "7437a80b-5c32-4382-d872-e196d3c213c0"
   },
   "outputs": [
    {
     "name": "stdout",
     "output_type": "stream",
     "text": [
      "<class 'tuple'>\n",
      "(28, 28, 1)\n"
     ]
    }
   ],
   "source": [
    "print(type(input_shape))\n",
    "print(input_shape)"
   ]
  },
  {
   "cell_type": "markdown",
   "metadata": {
    "colab_type": "text",
    "id": "uLsV4DUkyWB5"
   },
   "source": [
    "**STEP 4 : Buliding the model**"
   ]
  },
  {
   "cell_type": "markdown",
   "metadata": {
    "colab_type": "text",
    "id": "eXlBNItIyg6a"
   },
   "source": [
    "**ARCHITECTURE 1 :CONV + CONV + CONV + MAX POOLING + FLATTEN + DENSE**"
   ]
  },
  {
   "cell_type": "markdown",
   "metadata": {
    "colab_type": "text",
    "id": "9pAPsYtjywWJ"
   },
   "source": [
    "**(A) SETUP THE LAYERS:**"
   ]
  },
  {
   "cell_type": "code",
   "execution_count": 0,
   "metadata": {
    "colab": {},
    "colab_type": "code",
    "id": "tvpiVLfmy3nM"
   },
   "outputs": [],
   "source": [
    "#importing required libraries\n",
    "\n",
    "from keras.models import Sequential\n",
    "from keras.layers import Dense, Dropout, Flatten\n",
    "from keras.layers import Conv2D, MaxPooling2D"
   ]
  },
  {
   "cell_type": "code",
   "execution_count": 13,
   "metadata": {
    "colab": {
     "base_uri": "https://localhost:8080/",
     "height": 265
    },
    "colab_type": "code",
    "id": "hPIDXZTQzQfy",
    "outputId": "2063ef77-5df3-4c20-b20f-28fce1c3e7a2"
   },
   "outputs": [
    {
     "name": "stdout",
     "output_type": "stream",
     "text": [
      "WARNING:tensorflow:From /usr/local/lib/python3.6/dist-packages/keras/backend/tensorflow_backend.py:66: The name tf.get_default_graph is deprecated. Please use tf.compat.v1.get_default_graph instead.\n",
      "\n",
      "WARNING:tensorflow:From /usr/local/lib/python3.6/dist-packages/keras/backend/tensorflow_backend.py:541: The name tf.placeholder is deprecated. Please use tf.compat.v1.placeholder instead.\n",
      "\n",
      "WARNING:tensorflow:From /usr/local/lib/python3.6/dist-packages/keras/backend/tensorflow_backend.py:4432: The name tf.random_uniform is deprecated. Please use tf.random.uniform instead.\n",
      "\n",
      "WARNING:tensorflow:From /usr/local/lib/python3.6/dist-packages/keras/backend/tensorflow_backend.py:4267: The name tf.nn.max_pool is deprecated. Please use tf.nn.max_pool2d instead.\n",
      "\n",
      "WARNING:tensorflow:From /usr/local/lib/python3.6/dist-packages/keras/backend/tensorflow_backend.py:148: The name tf.placeholder_with_default is deprecated. Please use tf.compat.v1.placeholder_with_default instead.\n",
      "\n",
      "WARNING:tensorflow:From /usr/local/lib/python3.6/dist-packages/keras/backend/tensorflow_backend.py:3733: calling dropout (from tensorflow.python.ops.nn_ops) with keep_prob is deprecated and will be removed in a future version.\n",
      "Instructions for updating:\n",
      "Please use `rate` instead of `keep_prob`. Rate should be set to `rate = 1 - keep_prob`.\n"
     ]
    }
   ],
   "source": [
    "model = Sequential()\n",
    "model.add(Conv2D(32, kernel_size=(3, 3),\n",
    "                 activation='relu',\n",
    "                 input_shape=input_shape))\n",
    "model.add(Conv2D(64, (3, 3), activation='relu'))\n",
    "model.add(Conv2D(64, (3, 3), activation='relu'))\n",
    "model.add(MaxPooling2D(pool_size=(2, 2)))\n",
    "model.add(Dropout(rate = 0.25))\n",
    "model.add(Flatten())\n",
    "model.add(Dense(128, activation='relu'))\n",
    "model.add(Dropout(rate = 0.5))\n",
    "model.add(Dense(num_classes, activation='softmax'))"
   ]
  },
  {
   "cell_type": "markdown",
   "metadata": {
    "colab_type": "text",
    "id": "xkEJSXZyzhsJ"
   },
   "source": [
    "**(B) COMPILE THE MODEL:**\n",
    "1. Optimizer\n",
    "2. Loss function\n",
    "3. Evaluation Metrics"
   ]
  },
  {
   "cell_type": "code",
   "execution_count": 14,
   "metadata": {
    "colab": {
     "base_uri": "https://localhost:8080/",
     "height": 72
    },
    "colab_type": "code",
    "id": "amAK7AXhzgd_",
    "outputId": "0e688b36-7aae-4663-ad70-271b023c70da"
   },
   "outputs": [
    {
     "name": "stdout",
     "output_type": "stream",
     "text": [
      "WARNING:tensorflow:From /usr/local/lib/python3.6/dist-packages/keras/optimizers.py:793: The name tf.train.Optimizer is deprecated. Please use tf.compat.v1.train.Optimizer instead.\n",
      "\n"
     ]
    }
   ],
   "source": [
    "model.compile(loss=keras.losses.categorical_crossentropy,\n",
    "              optimizer='Adadelta',\n",
    "              metrics=['accuracy'])"
   ]
  },
  {
   "cell_type": "markdown",
   "metadata": {
    "colab_type": "text",
    "id": "ZuuPAEfN71S7"
   },
   "source": [
    "**STEP 5 : TRAINING THE MODEL**"
   ]
  },
  {
   "cell_type": "code",
   "execution_count": 0,
   "metadata": {
    "colab": {},
    "colab_type": "code",
    "id": "7nAxru688Dag"
   },
   "outputs": [],
   "source": [
    "batch_size = 128\n",
    "num_classes = 10\n",
    "epochs = 12"
   ]
  },
  {
   "cell_type": "code",
   "execution_count": 16,
   "metadata": {
    "colab": {
     "base_uri": "https://localhost:8080/",
     "height": 1000
    },
    "colab_type": "code",
    "id": "dXLzIPZO76EY",
    "outputId": "b1b94930-c826-4f85-d366-303d2f65fda2"
   },
   "outputs": [
    {
     "name": "stdout",
     "output_type": "stream",
     "text": [
      "WARNING:tensorflow:From /usr/local/lib/python3.6/dist-packages/keras/backend/tensorflow_backend.py:1033: The name tf.assign_add is deprecated. Please use tf.compat.v1.assign_add instead.\n",
      "\n",
      "WARNING:tensorflow:From /usr/local/lib/python3.6/dist-packages/keras/backend/tensorflow_backend.py:1020: The name tf.assign is deprecated. Please use tf.compat.v1.assign instead.\n",
      "\n",
      "WARNING:tensorflow:From /usr/local/lib/python3.6/dist-packages/keras/backend/tensorflow_backend.py:3005: The name tf.Session is deprecated. Please use tf.compat.v1.Session instead.\n",
      "\n",
      "Train on 60000 samples, validate on 10000 samples\n",
      "Epoch 1/12\n",
      "WARNING:tensorflow:From /usr/local/lib/python3.6/dist-packages/keras/backend/tensorflow_backend.py:190: The name tf.get_default_session is deprecated. Please use tf.compat.v1.get_default_session instead.\n",
      "\n",
      "WARNING:tensorflow:From /usr/local/lib/python3.6/dist-packages/keras/backend/tensorflow_backend.py:197: The name tf.ConfigProto is deprecated. Please use tf.compat.v1.ConfigProto instead.\n",
      "\n",
      "WARNING:tensorflow:From /usr/local/lib/python3.6/dist-packages/keras/backend/tensorflow_backend.py:207: The name tf.global_variables is deprecated. Please use tf.compat.v1.global_variables instead.\n",
      "\n",
      "WARNING:tensorflow:From /usr/local/lib/python3.6/dist-packages/keras/backend/tensorflow_backend.py:216: The name tf.is_variable_initialized is deprecated. Please use tf.compat.v1.is_variable_initialized instead.\n",
      "\n",
      "WARNING:tensorflow:From /usr/local/lib/python3.6/dist-packages/keras/backend/tensorflow_backend.py:223: The name tf.variables_initializer is deprecated. Please use tf.compat.v1.variables_initializer instead.\n",
      "\n",
      "60000/60000 [==============================] - 329s 5ms/step - loss: 0.2661 - acc: 0.9175 - val_loss: 0.0460 - val_acc: 0.9852\n",
      "Epoch 2/12\n",
      "60000/60000 [==============================] - 326s 5ms/step - loss: 0.0838 - acc: 0.9758 - val_loss: 0.0410 - val_acc: 0.9859\n",
      "Epoch 3/12\n",
      "60000/60000 [==============================] - 325s 5ms/step - loss: 0.0599 - acc: 0.9825 - val_loss: 0.0340 - val_acc: 0.9880\n",
      "Epoch 4/12\n",
      "60000/60000 [==============================] - 329s 5ms/step - loss: 0.0496 - acc: 0.9854 - val_loss: 0.0322 - val_acc: 0.9901\n",
      "Epoch 5/12\n",
      "60000/60000 [==============================] - 330s 5ms/step - loss: 0.0433 - acc: 0.9871 - val_loss: 0.0289 - val_acc: 0.9904\n",
      "Epoch 6/12\n",
      "60000/60000 [==============================] - 323s 5ms/step - loss: 0.0395 - acc: 0.9882 - val_loss: 0.0270 - val_acc: 0.9910\n",
      "Epoch 7/12\n",
      "60000/60000 [==============================] - 322s 5ms/step - loss: 0.0341 - acc: 0.9900 - val_loss: 0.0252 - val_acc: 0.9916\n",
      "Epoch 8/12\n",
      "60000/60000 [==============================] - 320s 5ms/step - loss: 0.0303 - acc: 0.9908 - val_loss: 0.0257 - val_acc: 0.9917\n",
      "Epoch 9/12\n",
      "60000/60000 [==============================] - 319s 5ms/step - loss: 0.0271 - acc: 0.9917 - val_loss: 0.0261 - val_acc: 0.9919\n",
      "Epoch 10/12\n",
      "60000/60000 [==============================] - 324s 5ms/step - loss: 0.0246 - acc: 0.9925 - val_loss: 0.0242 - val_acc: 0.9925\n",
      "Epoch 11/12\n",
      "60000/60000 [==============================] - 322s 5ms/step - loss: 0.0228 - acc: 0.9929 - val_loss: 0.0257 - val_acc: 0.9921\n",
      "Epoch 12/12\n",
      "60000/60000 [==============================] - 322s 5ms/step - loss: 0.0226 - acc: 0.9930 - val_loss: 0.0246 - val_acc: 0.9924\n",
      "\n",
      "Test accuracy: 0.9924\n"
     ]
    },
    {
     "data": {
      "image/png": "[encoded data removed]",
      "text/plain": [
       "<Figure size 432x288 with 1 Axes>"
      ]
     },
     "metadata": {
      "tags": []
     },
     "output_type": "display_data"
    }
   ],
   "source": [
    "history = model.fit(train_images, train_labels, epochs=epochs,batch_size=batch_size,validation_split=0.25,validation_data=(test_images, test_labels))\n",
    "\n",
    "test_loss, test_acc = model.evaluate(test_images,  test_labels, verbose=2)\n",
    "\n",
    "print('\\nTest accuracy:', test_acc)\n",
    "\n",
    "plt.plot(history.history['loss'])\n",
    "plt.plot(history.history['val_loss'])\n",
    "plt.title('ERROR PLOT Loss vs Epoch')\n",
    "plt.ylabel('LOSS')\n",
    "plt.xlabel('EPOCH')\n",
    "plt.legend(['train', 'test'], loc='upper left')\n",
    "plt.show()"
   ]
  },
  {
   "cell_type": "code",
   "execution_count": 0,
   "metadata": {
    "colab": {},
    "colab_type": "code",
    "id": "wUg6D4KuZvuo"
   },
   "outputs": [],
   "source": [
    "train_acc1 = history.history['acc']\n",
    "cross_acc1 = history.history['val_acc']\n",
    "train_loss1 = history.history['loss']\n",
    "cross_loss1 = history.history['val_loss']"
   ]
  },
  {
   "cell_type": "markdown",
   "metadata": {
    "colab_type": "text",
    "id": "Vc_DD9hR9XL5"
   },
   "source": [
    "**ARCHITECTURE 2 :CONV + CONV + MAX POOLING + CONV + CONV + CONV + MAX POOLING + FLATTEN + DENSE**"
   ]
  },
  {
   "cell_type": "code",
   "execution_count": 24,
   "metadata": {
    "colab": {
     "base_uri": "https://localhost:8080/",
     "height": 699
    },
    "colab_type": "code",
    "id": "MIK5LjY29lO8",
    "outputId": "e98eac8e-d952-4d8e-952c-92a4da7c66df"
   },
   "outputs": [
    {
     "name": "stdout",
     "output_type": "stream",
     "text": [
      "Train on 60000 samples, validate on 10000 samples\n",
      "Epoch 1/10\n",
      "60000/60000 [==============================] - 181s 3ms/step - loss: 0.6687 - acc: 0.7758 - val_loss: 0.1180 - val_acc: 0.9613\n",
      "Epoch 2/10\n",
      "60000/60000 [==============================] - 182s 3ms/step - loss: 0.1870 - acc: 0.9438 - val_loss: 0.0731 - val_acc: 0.9760\n",
      "Epoch 3/10\n",
      "60000/60000 [==============================] - 181s 3ms/step - loss: 0.1323 - acc: 0.9598 - val_loss: 0.0554 - val_acc: 0.9829\n",
      "Epoch 4/10\n",
      "60000/60000 [==============================] - 181s 3ms/step - loss: 0.1095 - acc: 0.9671 - val_loss: 0.0497 - val_acc: 0.9846\n",
      "Epoch 5/10\n",
      "60000/60000 [==============================] - 184s 3ms/step - loss: 0.0934 - acc: 0.9721 - val_loss: 0.0455 - val_acc: 0.9862\n",
      "Epoch 6/10\n",
      "60000/60000 [==============================] - 188s 3ms/step - loss: 0.0832 - acc: 0.9752 - val_loss: 0.0382 - val_acc: 0.9874\n",
      "Epoch 7/10\n",
      "60000/60000 [==============================] - 184s 3ms/step - loss: 0.0714 - acc: 0.9784 - val_loss: 0.0377 - val_acc: 0.9880\n",
      "Epoch 8/10\n",
      "60000/60000 [==============================] - 177s 3ms/step - loss: 0.0692 - acc: 0.9795 - val_loss: 0.0374 - val_acc: 0.9880\n",
      "Epoch 9/10\n",
      "60000/60000 [==============================] - 173s 3ms/step - loss: 0.0629 - acc: 0.9814 - val_loss: 0.0361 - val_acc: 0.9887\n",
      "Epoch 10/10\n",
      "60000/60000 [==============================] - 173s 3ms/step - loss: 0.0585 - acc: 0.9824 - val_loss: 0.0314 - val_acc: 0.9900\n",
      "\n",
      "Test accuracy2: 0.99\n"
     ]
    },
    {
     "data": {
      "image/png": "[encoded data removed]",
      "text/plain": [
       "<Figure size 432x288 with 1 Axes>"
      ]
     },
     "metadata": {
      "tags": []
     },
     "output_type": "display_data"
    }
   ],
   "source": [
    "batch_size = 256\n",
    "num_classes = 10\n",
    "epochs = 10\n",
    "\n",
    "model = Sequential()\n",
    "model.add(Conv2D(64, kernel_size=(3, 3),\n",
    "                 activation='relu',\n",
    "                 input_shape=input_shape))\n",
    "model.add(Conv2D(32, (3, 3), activation='relu'))\n",
    "model.add(MaxPooling2D(pool_size=(2, 2)))\n",
    "model.add(Conv2D(16, (3, 3), activation='relu'))\n",
    "model.add(Dropout(rate = 0.25))\n",
    "model.add(Conv2D(8, (3, 3), activation='relu'))\n",
    "model.add(Conv2D(32, (3, 3), activation='relu'))\n",
    "model.add(MaxPooling2D(pool_size=(3, 3)))\n",
    "model.add(Flatten())\n",
    "model.add(Dense(128, activation='relu'))\n",
    "model.add(Dropout(rate = 0.5))\n",
    "model.add(Dense(num_classes, activation='softmax'))\n",
    "\n",
    "model.compile(loss=keras.losses.categorical_crossentropy,\n",
    "              optimizer='Adam',\n",
    "              metrics=['accuracy'])\n",
    "\n",
    "\n",
    "history = model.fit(train_images, train_labels, epochs=epochs,batch_size=batch_size,validation_split=0.25,validation_data=(test_images, test_labels))\n",
    "\n",
    "test_loss2, test_acc2 = model.evaluate(test_images,  test_labels, verbose=2)\n",
    "\n",
    "print('\\nTest accuracy2:', test_acc)\n",
    "\n",
    "plt.plot(history.history['loss'])\n",
    "plt.plot(history.history['val_loss'])\n",
    "plt.title('ERROR PLOT Loss vs Epoch')\n",
    "plt.ylabel('LOSS')\n",
    "plt.xlabel('EPOCH')\n",
    "plt.legend(['train', 'test'], loc='upper left')\n",
    "plt.show()\n",
    "\n",
    "train_acc2 = history.history['acc']\n",
    "cross_acc2 = history.history['val_acc']\n",
    "train_loss2 = history.history['loss']\n",
    "cross_loss2 = history.history['val_loss']"
   ]
  },
  {
   "cell_type": "markdown",
   "metadata": {
    "colab_type": "text",
    "id": "CUxB5rxU9iaI"
   },
   "source": [
    "**ARCHITECTURE 3 : CONV + CONV + MAX POOLING + CONV + CONV + MAX POOLING + CONV + CONV + CONV + MAX POOLING + FLATTEN + DENSE**"
   ]
  },
  {
   "cell_type": "code",
   "execution_count": 26,
   "metadata": {
    "colab": {
     "base_uri": "https://localhost:8080/",
     "height": 699
    },
    "colab_type": "code",
    "id": "hVyh0uE0_u3W",
    "outputId": "a9ccbbee-b8b8-4365-92db-7c95269cb911"
   },
   "outputs": [
    {
     "name": "stdout",
     "output_type": "stream",
     "text": [
      "Train on 60000 samples, validate on 10000 samples\n",
      "Epoch 1/10\n",
      "60000/60000 [==============================] - 209s 3ms/step - loss: 0.9074 - acc: 0.6858 - val_loss: 0.1990 - val_acc: 0.9404\n",
      "Epoch 2/10\n",
      "60000/60000 [==============================] - 208s 3ms/step - loss: 0.2399 - acc: 0.9361 - val_loss: 0.1217 - val_acc: 0.9657\n",
      "Epoch 3/10\n",
      "60000/60000 [==============================] - 208s 3ms/step - loss: 0.1598 - acc: 0.9596 - val_loss: 0.0882 - val_acc: 0.9737\n",
      "Epoch 4/10\n",
      "60000/60000 [==============================] - 207s 3ms/step - loss: 0.1197 - acc: 0.9704 - val_loss: 0.0809 - val_acc: 0.9771\n",
      "Epoch 5/10\n",
      "60000/60000 [==============================] - 210s 4ms/step - loss: 0.1021 - acc: 0.9738 - val_loss: 0.0706 - val_acc: 0.9788\n",
      "Epoch 6/10\n",
      "60000/60000 [==============================] - 209s 3ms/step - loss: 0.0844 - acc: 0.9783 - val_loss: 0.0620 - val_acc: 0.9827\n",
      "Epoch 7/10\n",
      "60000/60000 [==============================] - 210s 3ms/step - loss: 0.0763 - acc: 0.9801 - val_loss: 0.0597 - val_acc: 0.9831\n",
      "Epoch 8/10\n",
      "60000/60000 [==============================] - 213s 4ms/step - loss: 0.0683 - acc: 0.9822 - val_loss: 0.0496 - val_acc: 0.9857\n",
      "Epoch 9/10\n",
      "60000/60000 [==============================] - 216s 4ms/step - loss: 0.0649 - acc: 0.9838 - val_loss: 0.0488 - val_acc: 0.9869\n",
      "Epoch 10/10\n",
      "60000/60000 [==============================] - 215s 4ms/step - loss: 0.0585 - acc: 0.9848 - val_loss: 0.0549 - val_acc: 0.9845\n",
      "\n",
      "Test accuracy3: 0.9845\n"
     ]
    },
    {
     "data": {
      "image/png": "[encoded data removed]",
      "text/plain": [
       "<Figure size 432x288 with 1 Axes>"
      ]
     },
     "metadata": {
      "tags": []
     },
     "output_type": "display_data"
    }
   ],
   "source": [
    "model = Sequential()\n",
    "model.add(Conv2D(64, kernel_size=(3, 3),\n",
    "                 activation='relu',\n",
    "                 input_shape=input_shape))\n",
    "model.add(Conv2D(32, (3, 3), activation='relu'))\n",
    "model.add(Conv2D(16, (3, 3), activation='relu'))\n",
    "model.add(MaxPooling2D(pool_size=(3,3)))\n",
    "model.add(Conv2D(16, (3, 3), activation='relu'))\n",
    "model.add(Conv2D(32, (3, 3), activation='relu'))\n",
    "model.add(Conv2D(32, (3, 3), activation='relu'))\n",
    "model.add(Conv2D(32, (1,1), activation='relu'))\n",
    "model.add(Conv2D(8, (1,1), activation='relu'))\n",
    "model.add(MaxPooling2D(pool_size=(1,1)))\n",
    "model.add(Flatten())\n",
    "model.add(Dense(64, activation='relu'))\n",
    "model.add(Dropout(rate = 0.5))\n",
    "model.add(Dense(num_classes, activation='softmax'))\n",
    "\n",
    "\n",
    "model.compile(loss=keras.losses.categorical_crossentropy,\n",
    "              optimizer='Adam',\n",
    "              metrics=['accuracy'])\n",
    "\n",
    "\n",
    "history = model.fit(train_images, train_labels, epochs=epochs,batch_size=batch_size,validation_split=0.25,validation_data=(test_images, test_labels))\n",
    "\n",
    "test_loss3, test_acc3 = model.evaluate(test_images,  test_labels, verbose=2)\n",
    "\n",
    "print('\\nTest accuracy3:', test_acc3)\n",
    "\n",
    "plt.plot(history.history['loss'])\n",
    "plt.plot(history.history['val_loss'])\n",
    "plt.title('ERROR PLOT Loss vs Epoch')\n",
    "plt.ylabel('LOSS')\n",
    "plt.xlabel('EPOCH')\n",
    "plt.legend(['train', 'test'], loc='upper left')\n",
    "plt.show()\n",
    "\n",
    "train_acc3 = history.history['acc']\n",
    "cross_acc3 = history.history['val_acc']\n",
    "train_loss3 = history.history['loss']\n",
    "cross_loss3 = history.history['val_loss']"
   ]
  },
  {
   "cell_type": "code",
   "execution_count": 30,
   "metadata": {
    "colab": {
     "base_uri": "https://localhost:8080/",
     "height": 140
    },
    "colab_type": "code",
    "id": "Vv03actMtHnP",
    "outputId": "3f55e74b-ebd4-43d4-8add-b414359226f9"
   },
   "outputs": [
    {
     "name": "stdout",
     "output_type": "stream",
     "text": [
      "+--------------+----------------------+--------------------+----------------------+--------+----------------------+----------+\n",
      "| ARCHITECTURE |      train_loss      |     train_acc      |       cv_loss        | cv_acc |      test_loss       | test_acc |\n",
      "+--------------+----------------------+--------------------+----------------------+--------+----------------------+----------+\n",
      "|      1       | 0.022590210125222804 | 0.9930499999682109 | 0.02455080679274688  | 0.9924 | 0.024550808396359754 |  0.9924  |\n",
      "|      2       | 0.058461320312817894 | 0.9823666666984558 | 0.03139860126348212  |  0.99  | 0.03139860348273651  |   0.99   |\n",
      "|      3       | 0.05848852526942889  | 0.9848499999682109 | 0.054851686122082174 | 0.9845 | 0.05485169101881693  |  0.9845  |\n",
      "+--------------+----------------------+--------------------+----------------------+--------+----------------------+----------+\n"
     ]
    }
   ],
   "source": [
    "# Please compare all your models using Prettytable library\n",
    "#http://zetcode.com/python/prettytable/\n",
    "from prettytable import PrettyTable\n",
    "x = PrettyTable()\n",
    "x.field_names = [\"ARCHITECTURE\", \"train_loss\",\"train_acc\",\"cv_loss\" ,\"cv_acc\",\"test_loss\",\"test_acc\"]\n",
    "\n",
    "x.add_row([\"1\",train_loss1[11],train_acc1[11],cross_loss1[11],cross_acc1[11],test_loss,test_acc])\n",
    "x.add_row([\"2\",train_loss2[9],train_acc2[9],cross_loss2[9],cross_acc2[9],test_loss2,test_acc2])\n",
    "x.add_row([\"3\",train_loss3[9],train_acc3[9],cross_loss3[9],cross_acc3[9],test_loss3,test_acc3])\n",
    "print(x)"
   ]
  }
 ],
 "metadata": {
  "colab": {
   "collapsed_sections": [],
   "name": "moulisai.2296@gmail.com_13",
   "provenance": []
  },
  "kernelspec": {
   "display_name": "Python 3",
   "language": "python",
   "name": "python3"
  },
  "language_info": {
   "codemirror_mode": {
    "name": "ipython",
    "version": 3
   },
   "file_extension": ".py",
   "mimetype": "text/x-python",
   "name": "python",
   "nbconvert_exporter": "python",
   "pygments_lexer": "ipython3",
   "version": "3.6.8"
  }
 },
 "nbformat": 4,
 "nbformat_minor": 1
}

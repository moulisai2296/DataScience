{
 "cells": [
  {
   "cell_type": "markdown",
   "metadata": {
    "colab_type": "text",
    "id": "RkezXeRc1tOM"
   },
   "source": [
    "**MLP ARCHITECTURES on MNIST Dataset**"
   ]
  },
  {
   "cell_type": "code",
   "execution_count": 73,
   "metadata": {
    "colab": {
     "base_uri": "https://localhost:8080/",
     "height": 34
    },
    "colab_type": "code",
    "id": "SZziJGwC1aeZ",
    "outputId": "a9810cb3-a5da-4129-d483-4795e1b73d8d"
   },
   "outputs": [
    {
     "name": "stdout",
     "output_type": "stream",
     "text": [
      "2.0.0\n"
     ]
    }
   ],
   "source": [
    "#Using Tensor flow version 2.0\n",
    "%tensorflow_version 2.x\n",
    "import tensorflow as tf\n",
    "from tensorflow import keras\n",
    "print(tf.__version__)"
   ]
  },
  {
   "cell_type": "markdown",
   "metadata": {
    "colab_type": "text",
    "id": "IY2QumrP2l1f"
   },
   "source": [
    "**STEP 1 : LOADING THE DATA**"
   ]
  },
  {
   "cell_type": "code",
   "execution_count": 74,
   "metadata": {
    "colab": {
     "base_uri": "https://localhost:8080/",
     "height": 34
    },
    "colab_type": "code",
    "id": "IIgsh-9s2SBo",
    "outputId": "0e10832b-746d-43a7-b3df-581a5d170701"
   },
   "outputs": [
    {
     "name": "stdout",
     "output_type": "stream",
     "text": [
      "DATASET LOADED SUCCESSFULLY\n"
     ]
    }
   ],
   "source": [
    "#https://www.tensorflow.org/tutorials/keras/classification\n",
    "m  = keras.datasets.mnist                                                 #Import and load the MNIST data directly from TensorFlow\n",
    "(train_images, train_labels), (test_images, test_labels) = m.load_data()  #Dividing data into two parts train and test.Loading the dataset returns four NumPy arrays\n",
    "print(\"DATASET LOADED SUCCESSFULLY\")"
   ]
  },
  {
   "cell_type": "markdown",
   "metadata": {
    "colab_type": "text",
    "id": "mq7KLvvP257B"
   },
   "source": [
    "**STEP 2: EXPLORING THE DATA**"
   ]
  },
  {
   "cell_type": "code",
   "execution_count": 75,
   "metadata": {
    "colab": {
     "base_uri": "https://localhost:8080/",
     "height": 85
    },
    "colab_type": "code",
    "id": "ViyuW2mI3CYe",
    "outputId": "2dd0f5e9-f3a9-4138-c988-8c49b2919687"
   },
   "outputs": [
    {
     "name": "stdout",
     "output_type": "stream",
     "text": [
      "(60000, 28, 28)\n",
      "(60000,)\n",
      "(10000, 28, 28)\n",
      "(10000,)\n"
     ]
    }
   ],
   "source": [
    "#Shape of Train and test datapoints\n",
    "print(train_images.shape)\n",
    "print(train_labels.shape)\n",
    "print(test_images.shape)\n",
    "print(test_labels.shape)"
   ]
  },
  {
   "cell_type": "markdown",
   "metadata": {
    "colab_type": "text",
    "id": "tUarT1s23VSs"
   },
   "source": [
    "There are 60000 Train datapoints and 10000 test datapoints with 28x28 size."
   ]
  },
  {
   "cell_type": "code",
   "execution_count": 76,
   "metadata": {
    "colab": {
     "base_uri": "https://localhost:8080/",
     "height": 51
    },
    "colab_type": "code",
    "id": "eg6WzwS33jEw",
    "outputId": "91d9dd3a-3c5c-4288-f855-dab76db3b19c"
   },
   "outputs": [
    {
     "name": "stdout",
     "output_type": "stream",
     "text": [
      "number of data points in train_images :  60000 number of pixels in each train image : 28\n",
      "number of data points in test_images :  10000 number of pixels in each test image : 28\n"
     ]
    }
   ],
   "source": [
    "print(\"number of data points in train_images : \", train_images.shape[0],\"number of pixels in each train image :\",train_images.shape[1])\n",
    "print(\"number of data points in test_images : \", test_images.shape[0],\"number of pixels in each test image :\",test_images.shape[1])"
   ]
  },
  {
   "cell_type": "markdown",
   "metadata": {
    "colab_type": "text",
    "id": "z7FIg7xR4Ao2"
   },
   "source": [
    "**One hot encoding of train and test labels:**"
   ]
  },
  {
   "cell_type": "code",
   "execution_count": 0,
   "metadata": {
    "colab": {},
    "colab_type": "code",
    "id": "tIljMWl6wkVu"
   },
   "outputs": [],
   "source": [
    "#The labels ranges from 0 to 9.\n",
    "#print(\"First train label : \",train_labels[0])\n",
    "#print(\"First test label : \", test_labels[0])\n",
    "\n",
    "#train_labels= tf.one_hot(train_labels,10)\n",
    "#test_labels = tf.one_hot(test_labels,10)\n",
    "\n",
    "\n",
    "#print(\"Equivalent one hot encoded label of first trian label\",train_labels[0])\n",
    "#print(\"Equivalent one hot encoded label of first test label\",test_labels[0])\n",
    "\n"
   ]
  },
  {
   "cell_type": "markdown",
   "metadata": {
    "colab_type": "text",
    "id": "amTA3m4_54QV"
   },
   "source": [
    "**STEP 3 : PREPROCESSING THE DATA**"
   ]
  },
  {
   "cell_type": "code",
   "execution_count": 77,
   "metadata": {
    "colab": {
     "base_uri": "https://localhost:8080/",
     "height": 266
    },
    "colab_type": "code",
    "id": "ZZL0XLwe5_gJ",
    "outputId": "47453b12-feaa-45e8-84fc-68bd18eb76e6"
   },
   "outputs": [
    {
     "data": {
      "image/png": "[encoded data removed]",
      "text/plain": [
       "<Figure size 432x288 with 2 Axes>"
      ]
     },
     "metadata": {
      "tags": []
     },
     "output_type": "display_data"
    }
   ],
   "source": [
    "#Printing first image\n",
    "import matplotlib.pyplot as plt\n",
    "plt.figure()\n",
    "plt.imshow(train_images[10])\n",
    "plt.colorbar()\n",
    "plt.grid(False)\n",
    "plt.show()"
   ]
  },
  {
   "cell_type": "code",
   "execution_count": 0,
   "metadata": {
    "colab": {},
    "colab_type": "code",
    "id": "5yfuaPze6QtK"
   },
   "outputs": [],
   "source": [
    "train_images = train_images / 255.0\n",
    "\n",
    "test_images = test_images / 255.0"
   ]
  },
  {
   "cell_type": "markdown",
   "metadata": {
    "colab_type": "text",
    "id": "CmYy24vkDB8l"
   },
   "source": [
    "**STEP 4 : Buliding the model**"
   ]
  },
  {
   "cell_type": "markdown",
   "metadata": {
    "colab_type": "text",
    "id": "TEGTVR8kDCMt"
   },
   "source": [
    "**ARCHITECTURE 1 : Input(784) + RELU(64) + RELU(32) + SOFTMAX(10)**"
   ]
  },
  {
   "cell_type": "markdown",
   "metadata": {
    "colab_type": "text",
    "id": "-9dIb_8_DCk7"
   },
   "source": [
    "**(A) SETUP THE LAYERS:**"
   ]
  },
  {
   "cell_type": "code",
   "execution_count": 0,
   "metadata": {
    "colab": {},
    "colab_type": "code",
    "id": "FORer9ciItQb"
   },
   "outputs": [],
   "source": [
    "#Without Batch Normalization and Dropout layers\n",
    "\n",
    "model = keras.Sequential([\n",
    "    keras.layers.Flatten(input_shape=(28, 28)),\n",
    "    keras.layers.Dense(64,activation='relu'),\n",
    "    keras.layers.Dense(32, activation='relu'),\n",
    "    keras.layers.Dense(10, activation='softmax')\n",
    "])"
   ]
  },
  {
   "cell_type": "markdown",
   "metadata": {
    "colab_type": "text",
    "id": "mXY2MB8zDC5B"
   },
   "source": [
    "**(B) COMPILE THE MODEL:**\n",
    "1. Optimizer\n",
    "2. Loss function\n",
    "3. Evaluation Metrics"
   ]
  },
  {
   "cell_type": "code",
   "execution_count": 0,
   "metadata": {
    "colab": {},
    "colab_type": "code",
    "id": "b3Su5QzMJy4W"
   },
   "outputs": [],
   "source": [
    "model.compile(optimizer='adam',\n",
    "              loss='sparse_categorical_crossentropy',\n",
    "              metrics=['accuracy'])"
   ]
  },
  {
   "cell_type": "markdown",
   "metadata": {
    "colab_type": "text",
    "id": "QjVXx83zDDGC"
   },
   "source": [
    "**STEP 5 : TRAINING THE MODEL**"
   ]
  },
  {
   "cell_type": "code",
   "execution_count": 99,
   "metadata": {
    "colab": {
     "base_uri": "https://localhost:8080/",
     "height": 374
    },
    "colab_type": "code",
    "id": "ojf2CyqHKABe",
    "outputId": "4cc276c6-3135-4dd2-940e-f81c3df8723c"
   },
   "outputs": [
    {
     "name": "stdout",
     "output_type": "stream",
     "text": [
      "Train on 45000 samples, validate on 15000 samples\n",
      "Epoch 1/10\n",
      "45000/45000 [==============================] - 6s 127us/sample - loss: 0.3288 - accuracy: 0.9062 - val_loss: 0.2083 - val_accuracy: 0.9375\n",
      "Epoch 2/10\n",
      "45000/45000 [==============================] - 5s 104us/sample - loss: 0.1429 - accuracy: 0.9581 - val_loss: 0.1384 - val_accuracy: 0.9577\n",
      "Epoch 3/10\n",
      "45000/45000 [==============================] - 5s 103us/sample - loss: 0.1068 - accuracy: 0.9678 - val_loss: 0.1290 - val_accuracy: 0.9610\n",
      "Epoch 4/10\n",
      "45000/45000 [==============================] - 5s 104us/sample - loss: 0.0812 - accuracy: 0.9761 - val_loss: 0.1254 - val_accuracy: 0.9641\n",
      "Epoch 5/10\n",
      "45000/45000 [==============================] - 5s 102us/sample - loss: 0.0683 - accuracy: 0.9787 - val_loss: 0.1156 - val_accuracy: 0.9658\n",
      "Epoch 6/10\n",
      "45000/45000 [==============================] - 5s 103us/sample - loss: 0.0569 - accuracy: 0.9827 - val_loss: 0.1092 - val_accuracy: 0.9682\n",
      "Epoch 7/10\n",
      "45000/45000 [==============================] - 5s 103us/sample - loss: 0.0466 - accuracy: 0.9858 - val_loss: 0.1131 - val_accuracy: 0.9679\n",
      "Epoch 8/10\n",
      "45000/45000 [==============================] - 5s 111us/sample - loss: 0.0402 - accuracy: 0.9876 - val_loss: 0.1338 - val_accuracy: 0.9654\n",
      "Epoch 9/10\n",
      "45000/45000 [==============================] - 5s 113us/sample - loss: 0.0356 - accuracy: 0.9887 - val_loss: 0.1246 - val_accuracy: 0.9675\n",
      "Epoch 10/10\n",
      "45000/45000 [==============================] - 5s 103us/sample - loss: 0.0302 - accuracy: 0.9899 - val_loss: 0.1178 - val_accuracy: 0.9705\n"
     ]
    }
   ],
   "source": [
    "history = model.fit(train_images, train_labels, epochs=10,validation_split=0.25)"
   ]
  },
  {
   "cell_type": "markdown",
   "metadata": {
    "colab_type": "text",
    "id": "mITNN-sxDDTC"
   },
   "source": [
    "**STEP 6 : EVALUATE ACCURACY**"
   ]
  },
  {
   "cell_type": "code",
   "execution_count": 100,
   "metadata": {
    "colab": {
     "base_uri": "https://localhost:8080/",
     "height": 68
    },
    "colab_type": "code",
    "id": "v_AgFbzbNwsD",
    "outputId": "d028ffab-3e3c-4750-a1db-69da5d2f6d4b"
   },
   "outputs": [
    {
     "name": "stdout",
     "output_type": "stream",
     "text": [
      "10000/1 - 0s - loss: 0.0478 - accuracy: 0.9761\n",
      "\n",
      "Test accuracy: 0.9761\n"
     ]
    }
   ],
   "source": [
    "test_loss, test_acc = model.evaluate(test_images,  test_labels, verbose=2)\n",
    "\n",
    "print('\\nTest accuracy:', test_acc)"
   ]
  },
  {
   "cell_type": "code",
   "execution_count": 101,
   "metadata": {
    "colab": {
     "base_uri": "https://localhost:8080/",
     "height": 295
    },
    "colab_type": "code",
    "id": "MISZ28awQVND",
    "outputId": "041958f5-1189-42a6-f0fa-41af857dca4a"
   },
   "outputs": [
    {
     "data": {
      "image/png": "[encoded data removed]",
      "text/plain": [
       "<Figure size 432x288 with 1 Axes>"
      ]
     },
     "metadata": {
      "tags": []
     },
     "output_type": "display_data"
    }
   ],
   "source": [
    "#https://keras.io/visualization/\n",
    "plt.plot(history.history['loss'])\n",
    "plt.plot(history.history['val_loss'])\n",
    "plt.title('ERROR PLOT Loss vs Epoch')\n",
    "plt.ylabel('LOSS')\n",
    "plt.xlabel('EPOCH')\n",
    "plt.legend(['train', 'test'], loc='upper left')\n",
    "plt.show()"
   ]
  },
  {
   "cell_type": "code",
   "execution_count": 106,
   "metadata": {
    "colab": {
     "base_uri": "https://localhost:8080/",
     "height": 1000
    },
    "colab_type": "code",
    "id": "RNRUxgh6Vvt0",
    "outputId": "e065cd2a-95ca-44df-9b66-98ca6ba41cc1"
   },
   "outputs": [
    {
     "name": "stdout",
     "output_type": "stream",
     "text": [
      "Train on 45000 samples, validate on 15000 samples\n",
      "Epoch 1/20\n",
      "45000/45000 [==============================] - 3s 62us/sample - loss: 0.7212 - accuracy: 0.7788 - val_loss: 0.2775 - val_accuracy: 0.9203\n",
      "Epoch 2/20\n",
      "45000/45000 [==============================] - 2s 50us/sample - loss: 0.3837 - accuracy: 0.8865 - val_loss: 0.2175 - val_accuracy: 0.9355\n",
      "Epoch 3/20\n",
      "45000/45000 [==============================] - 2s 48us/sample - loss: 0.3315 - accuracy: 0.9007 - val_loss: 0.1911 - val_accuracy: 0.9444\n",
      "Epoch 4/20\n",
      "45000/45000 [==============================] - 2s 48us/sample - loss: 0.2957 - accuracy: 0.9109 - val_loss: 0.1722 - val_accuracy: 0.9493\n",
      "Epoch 5/20\n",
      "45000/45000 [==============================] - 2s 48us/sample - loss: 0.2749 - accuracy: 0.9182 - val_loss: 0.1643 - val_accuracy: 0.9511\n",
      "Epoch 6/20\n",
      "45000/45000 [==============================] - 2s 50us/sample - loss: 0.2662 - accuracy: 0.9194 - val_loss: 0.1543 - val_accuracy: 0.9547\n",
      "Epoch 7/20\n",
      "45000/45000 [==============================] - 2s 49us/sample - loss: 0.2497 - accuracy: 0.9237 - val_loss: 0.1518 - val_accuracy: 0.9558\n",
      "Epoch 8/20\n",
      "45000/45000 [==============================] - 2s 50us/sample - loss: 0.2376 - accuracy: 0.9267 - val_loss: 0.1445 - val_accuracy: 0.9576\n",
      "Epoch 9/20\n",
      "45000/45000 [==============================] - 2s 49us/sample - loss: 0.2230 - accuracy: 0.9315 - val_loss: 0.1468 - val_accuracy: 0.9591\n",
      "Epoch 10/20\n",
      "45000/45000 [==============================] - 2s 48us/sample - loss: 0.2242 - accuracy: 0.9310 - val_loss: 0.1437 - val_accuracy: 0.9595\n",
      "Epoch 11/20\n",
      "45000/45000 [==============================] - 2s 49us/sample - loss: 0.2171 - accuracy: 0.9323 - val_loss: 0.1385 - val_accuracy: 0.9609\n",
      "Epoch 12/20\n",
      "45000/45000 [==============================] - 2s 51us/sample - loss: 0.2126 - accuracy: 0.9335 - val_loss: 0.1328 - val_accuracy: 0.9623\n",
      "Epoch 13/20\n",
      "45000/45000 [==============================] - 2s 48us/sample - loss: 0.2038 - accuracy: 0.9379 - val_loss: 0.1349 - val_accuracy: 0.9617\n",
      "Epoch 14/20\n",
      "45000/45000 [==============================] - 2s 49us/sample - loss: 0.1991 - accuracy: 0.9372 - val_loss: 0.1309 - val_accuracy: 0.9619\n",
      "Epoch 15/20\n",
      "45000/45000 [==============================] - 2s 50us/sample - loss: 0.1958 - accuracy: 0.9384 - val_loss: 0.1291 - val_accuracy: 0.9634\n",
      "Epoch 16/20\n",
      "45000/45000 [==============================] - 2s 51us/sample - loss: 0.1949 - accuracy: 0.9395 - val_loss: 0.1295 - val_accuracy: 0.9644\n",
      "Epoch 17/20\n",
      "45000/45000 [==============================] - 2s 48us/sample - loss: 0.1880 - accuracy: 0.9403 - val_loss: 0.1295 - val_accuracy: 0.9637\n",
      "Epoch 18/20\n",
      "45000/45000 [==============================] - 2s 50us/sample - loss: 0.1887 - accuracy: 0.9403 - val_loss: 0.1270 - val_accuracy: 0.9637\n",
      "Epoch 19/20\n",
      "45000/45000 [==============================] - 2s 50us/sample - loss: 0.1839 - accuracy: 0.9424 - val_loss: 0.1239 - val_accuracy: 0.9654\n",
      "Epoch 20/20\n",
      "45000/45000 [==============================] - 2s 50us/sample - loss: 0.1828 - accuracy: 0.9422 - val_loss: 0.1264 - val_accuracy: 0.9654\n",
      "10000/1 - 1s - loss: 0.0648 - accuracy: 0.9624\n",
      "\n",
      "Test accuracy: 0.9624\n"
     ]
    },
    {
     "data": {
      "image/png": "[encoded data removed]",
      "text/plain": [
       "<Figure size 432x288 with 1 Axes>"
      ]
     },
     "metadata": {
      "tags": []
     },
     "output_type": "display_data"
    }
   ],
   "source": [
    "#Using Dropout=0.5 layer\n",
    "\n",
    "model = keras.Sequential([\n",
    "    keras.layers.Flatten(input_shape=(28, 28)),\n",
    "    keras.layers.Dense(64,activation='relu'),\n",
    "    keras.layers.Dropout(0.5),\n",
    "    keras.layers.Dense(32, activation='relu'),\n",
    "    keras.layers.Dense(10, activation='softmax')\n",
    "])\n",
    "\n",
    "model.compile(optimizer='adam',\n",
    "              loss='sparse_categorical_crossentropy',\n",
    "              metrics=['accuracy'])\n",
    "\n",
    "history = model.fit(train_images, train_labels, epochs=20,batch_size=100,validation_split=0.25)\n",
    "\n",
    "test_loss, test_acc = model.evaluate(test_images,  test_labels, verbose=2)\n",
    "\n",
    "print('\\nTest accuracy:', test_acc)\n",
    "\n",
    "plt.plot(history.history['loss'])\n",
    "plt.plot(history.history['val_loss'])\n",
    "plt.title('ERROR PLOT Loss vs Epoch')\n",
    "plt.ylabel('LOSS')\n",
    "plt.xlabel('EPOCH')\n",
    "plt.legend(['train', 'test'], loc='upper left')\n",
    "plt.show()"
   ]
  },
  {
   "cell_type": "code",
   "execution_count": 105,
   "metadata": {
    "colab": {
     "base_uri": "https://localhost:8080/",
     "height": 703
    },
    "colab_type": "code",
    "id": "3k6keR3BZbip",
    "outputId": "69288d68-4a36-4998-98dd-400275571e26"
   },
   "outputs": [
    {
     "name": "stdout",
     "output_type": "stream",
     "text": [
      "Train on 45000 samples, validate on 15000 samples\n",
      "Epoch 1/10\n",
      "45000/45000 [==============================] - 7s 150us/sample - loss: 0.3225 - accuracy: 0.9057 - val_loss: 0.1818 - val_accuracy: 0.9442\n",
      "Epoch 2/10\n",
      "45000/45000 [==============================] - 6s 127us/sample - loss: 0.1521 - accuracy: 0.9526 - val_loss: 0.1437 - val_accuracy: 0.9555\n",
      "Epoch 3/10\n",
      "45000/45000 [==============================] - 6s 127us/sample - loss: 0.1181 - accuracy: 0.9640 - val_loss: 0.1297 - val_accuracy: 0.9617\n",
      "Epoch 4/10\n",
      "45000/45000 [==============================] - 6s 128us/sample - loss: 0.0998 - accuracy: 0.9690 - val_loss: 0.1210 - val_accuracy: 0.9647\n",
      "Epoch 5/10\n",
      "45000/45000 [==============================] - 6s 126us/sample - loss: 0.0873 - accuracy: 0.9717 - val_loss: 0.1154 - val_accuracy: 0.9663\n",
      "Epoch 6/10\n",
      "45000/45000 [==============================] - 6s 127us/sample - loss: 0.0798 - accuracy: 0.9756 - val_loss: 0.1060 - val_accuracy: 0.9701\n",
      "Epoch 7/10\n",
      "45000/45000 [==============================] - 6s 126us/sample - loss: 0.0658 - accuracy: 0.9786 - val_loss: 0.1108 - val_accuracy: 0.9692\n",
      "Epoch 8/10\n",
      "45000/45000 [==============================] - 6s 126us/sample - loss: 0.0632 - accuracy: 0.9797 - val_loss: 0.1111 - val_accuracy: 0.9692\n",
      "Epoch 9/10\n",
      "45000/45000 [==============================] - 6s 122us/sample - loss: 0.0572 - accuracy: 0.9811 - val_loss: 0.1049 - val_accuracy: 0.9713\n",
      "Epoch 10/10\n",
      "45000/45000 [==============================] - 6s 126us/sample - loss: 0.0507 - accuracy: 0.9837 - val_loss: 0.1065 - val_accuracy: 0.9717\n",
      "10000/1 - 0s - loss: 0.0452 - accuracy: 0.9756\n",
      "\n",
      "Test accuracy: 0.9756\n"
     ]
    },
    {
     "data": {
      "image/png": "[encoded data removed]",
      "text/plain": [
       "<Figure size 432x288 with 1 Axes>"
      ]
     },
     "metadata": {
      "tags": []
     },
     "output_type": "display_data"
    }
   ],
   "source": [
    "#Using Batch Normalization layer\n",
    "\n",
    "model = keras.Sequential([\n",
    "    keras.layers.Flatten(input_shape=(28, 28)),\n",
    "    keras.layers.Dense(64,activation='relu'),\n",
    "    keras.layers.BatchNormalization(),\n",
    "    keras.layers.Dense(32, activation='relu'),\n",
    "    keras.layers.Dense(10, activation='softmax')\n",
    "])\n",
    "\n",
    "model.compile(optimizer='adam',\n",
    "              loss='sparse_categorical_crossentropy',\n",
    "              metrics=['accuracy'])\n",
    "\n",
    "history = model.fit(train_images, train_labels, epochs=10,validation_split=0.25)\n",
    "\n",
    "test_loss, test_acc = model.evaluate(test_images,  test_labels, verbose=2)\n",
    "\n",
    "print('\\nTest accuracy:', test_acc)\n",
    "\n",
    "plt.plot(history.history['loss'])\n",
    "plt.plot(history.history['val_loss'])\n",
    "plt.title('ERROR PLOT Loss vs Epoch')\n",
    "plt.ylabel('LOSS')\n",
    "plt.xlabel('EPOCH')\n",
    "plt.legend(['train', 'test'], loc='upper left')\n",
    "plt.show()"
   ]
  },
  {
   "cell_type": "markdown",
   "metadata": {
    "colab_type": "text",
    "id": "6n59ldhUEo6s"
   },
   "source": [
    "**ARCHITECTURE 2 :Input(784) + RELU(1024) + RELU (256) + RELU (32) + SOFTMAX(10)**"
   ]
  },
  {
   "cell_type": "code",
   "execution_count": 107,
   "metadata": {
    "colab": {
     "base_uri": "https://localhost:8080/",
     "height": 703
    },
    "colab_type": "code",
    "id": "0eKCDnvnazEo",
    "outputId": "9cd26707-e83b-4ebf-e134-7ef08cf53ced"
   },
   "outputs": [
    {
     "name": "stdout",
     "output_type": "stream",
     "text": [
      "Train on 45000 samples, validate on 15000 samples\n",
      "Epoch 1/10\n",
      "45000/45000 [==============================] - 20s 450us/sample - loss: 0.2215 - accuracy: 0.9335 - val_loss: 0.1335 - val_accuracy: 0.9606\n",
      "Epoch 2/10\n",
      "45000/45000 [==============================] - 20s 445us/sample - loss: 0.0920 - accuracy: 0.9725 - val_loss: 0.1196 - val_accuracy: 0.9635\n",
      "Epoch 3/10\n",
      "45000/45000 [==============================] - 20s 438us/sample - loss: 0.0616 - accuracy: 0.9807 - val_loss: 0.1298 - val_accuracy: 0.9639\n",
      "Epoch 4/10\n",
      "45000/45000 [==============================] - 20s 444us/sample - loss: 0.0486 - accuracy: 0.9848 - val_loss: 0.0976 - val_accuracy: 0.9728\n",
      "Epoch 5/10\n",
      "45000/45000 [==============================] - 20s 444us/sample - loss: 0.0367 - accuracy: 0.9882 - val_loss: 0.1145 - val_accuracy: 0.9712\n",
      "Epoch 6/10\n",
      "45000/45000 [==============================] - 20s 438us/sample - loss: 0.0300 - accuracy: 0.9907 - val_loss: 0.1197 - val_accuracy: 0.9731\n",
      "Epoch 7/10\n",
      "45000/45000 [==============================] - 20s 439us/sample - loss: 0.0275 - accuracy: 0.9914 - val_loss: 0.0940 - val_accuracy: 0.9771\n",
      "Epoch 8/10\n",
      "45000/45000 [==============================] - 20s 440us/sample - loss: 0.0239 - accuracy: 0.9924 - val_loss: 0.1132 - val_accuracy: 0.9738\n",
      "Epoch 9/10\n",
      "45000/45000 [==============================] - 20s 438us/sample - loss: 0.0199 - accuracy: 0.9942 - val_loss: 0.1253 - val_accuracy: 0.9732\n",
      "Epoch 10/10\n",
      "45000/45000 [==============================] - 20s 447us/sample - loss: 0.0190 - accuracy: 0.9944 - val_loss: 0.1032 - val_accuracy: 0.9775\n",
      "10000/1 - 1s - loss: 0.0398 - accuracy: 0.9821\n",
      "\n",
      "Test accuracy: 0.9821\n"
     ]
    },
    {
     "data": {
      "image/png": "[encoded data removed]",
      "text/plain": [
       "<Figure size 432x288 with 1 Axes>"
      ]
     },
     "metadata": {
      "tags": []
     },
     "output_type": "display_data"
    }
   ],
   "source": [
    "#Without any dropout and bach normalization\n",
    "\n",
    "model = keras.Sequential([\n",
    "    keras.layers.Flatten(input_shape=(28, 28)),\n",
    "    keras.layers.Dense(1024,activation='relu'),\n",
    "    keras.layers.Dense(256,activation='relu'),\n",
    "    keras.layers.Dense(32, activation='relu'),\n",
    "    keras.layers.Dense(10, activation='softmax')\n",
    "])\n",
    "\n",
    "model.compile(optimizer='adam',\n",
    "              loss='sparse_categorical_crossentropy',\n",
    "              metrics=['accuracy'])\n",
    "\n",
    "history = model.fit(train_images, train_labels, epochs=10,validation_split=0.25)\n",
    "\n",
    "test_loss, test_acc = model.evaluate(test_images,  test_labels, verbose=2)\n",
    "\n",
    "print('\\nTest accuracy:', test_acc)\n",
    "\n",
    "plt.plot(history.history['loss'])\n",
    "plt.plot(history.history['val_loss'])\n",
    "plt.title('ERROR PLOT Loss vs Epoch')\n",
    "plt.ylabel('LOSS')\n",
    "plt.xlabel('EPOCH')\n",
    "plt.legend(['train', 'test'], loc='upper left')\n",
    "plt.show()"
   ]
  },
  {
   "cell_type": "code",
   "execution_count": 108,
   "metadata": {
    "colab": {
     "base_uri": "https://localhost:8080/",
     "height": 703
    },
    "colab_type": "code",
    "id": "k9BbXzrfbvN7",
    "outputId": "24e12439-da22-49c9-86c9-e368ca6272ea"
   },
   "outputs": [
    {
     "name": "stdout",
     "output_type": "stream",
     "text": [
      "Train on 45000 samples, validate on 15000 samples\n",
      "Epoch 1/10\n",
      "45000/45000 [==============================] - 22s 478us/sample - loss: 0.3644 - accuracy: 0.8891 - val_loss: 0.1384 - val_accuracy: 0.9589\n",
      "Epoch 2/10\n",
      "45000/45000 [==============================] - 21s 465us/sample - loss: 0.1925 - accuracy: 0.9443 - val_loss: 0.1293 - val_accuracy: 0.9603\n",
      "Epoch 3/10\n",
      "45000/45000 [==============================] - 21s 457us/sample - loss: 0.1539 - accuracy: 0.9546 - val_loss: 0.1099 - val_accuracy: 0.9669\n",
      "Epoch 4/10\n",
      "45000/45000 [==============================] - 20s 451us/sample - loss: 0.1369 - accuracy: 0.9604 - val_loss: 0.1030 - val_accuracy: 0.9696\n",
      "Epoch 5/10\n",
      "45000/45000 [==============================] - 21s 464us/sample - loss: 0.1214 - accuracy: 0.9648 - val_loss: 0.1022 - val_accuracy: 0.9710\n",
      "Epoch 6/10\n",
      "45000/45000 [==============================] - 21s 458us/sample - loss: 0.1097 - accuracy: 0.9678 - val_loss: 0.0883 - val_accuracy: 0.9736\n",
      "Epoch 7/10\n",
      "45000/45000 [==============================] - 21s 461us/sample - loss: 0.0976 - accuracy: 0.9715 - val_loss: 0.0945 - val_accuracy: 0.9731\n",
      "Epoch 8/10\n",
      "45000/45000 [==============================] - 20s 455us/sample - loss: 0.0909 - accuracy: 0.9723 - val_loss: 0.0934 - val_accuracy: 0.9759\n",
      "Epoch 9/10\n",
      "45000/45000 [==============================] - 21s 461us/sample - loss: 0.0874 - accuracy: 0.9742 - val_loss: 0.0897 - val_accuracy: 0.9757\n",
      "Epoch 10/10\n",
      "45000/45000 [==============================] - 21s 460us/sample - loss: 0.0786 - accuracy: 0.9760 - val_loss: 0.0862 - val_accuracy: 0.9763\n",
      "10000/1 - 1s - loss: 0.0376 - accuracy: 0.9788\n",
      "\n",
      "Test accuracy: 0.9788\n"
     ]
    },
    {
     "data": {
      "image/png": "[encoded data removed]",
      "text/plain": [
       "<Figure size 432x288 with 1 Axes>"
      ]
     },
     "metadata": {
      "tags": []
     },
     "output_type": "display_data"
    }
   ],
   "source": [
    "#With Drop out\n",
    "\n",
    "model = keras.Sequential([\n",
    "    keras.layers.Flatten(input_shape=(28, 28)),\n",
    "    keras.layers.Dense(1024,activation='relu'),\n",
    "    keras.layers.Dropout(0.5),\n",
    "    keras.layers.Dense(256,activation='relu'),\n",
    "    keras.layers.Dropout(0.5),\n",
    "    keras.layers.Dense(32, activation='relu'),\n",
    "    keras.layers.Dense(10, activation='softmax')\n",
    "])\n",
    "\n",
    "model.compile(optimizer='adam',\n",
    "              loss='sparse_categorical_crossentropy',\n",
    "              metrics=['accuracy'])\n",
    "\n",
    "history = model.fit(train_images, train_labels, epochs=10,validation_split=0.25)\n",
    "\n",
    "test_loss, test_acc = model.evaluate(test_images,  test_labels, verbose=2)\n",
    "\n",
    "print('\\nTest accuracy:', test_acc)\n",
    "\n",
    "plt.plot(history.history['loss'])\n",
    "plt.plot(history.history['val_loss'])\n",
    "plt.title('ERROR PLOT Loss vs Epoch')\n",
    "plt.ylabel('LOSS')\n",
    "plt.xlabel('EPOCH')\n",
    "plt.legend(['train', 'test'], loc='upper left')\n",
    "plt.show()"
   ]
  },
  {
   "cell_type": "code",
   "execution_count": 110,
   "metadata": {
    "colab": {
     "base_uri": "https://localhost:8080/",
     "height": 703
    },
    "colab_type": "code",
    "id": "nzuR6pGxcPRC",
    "outputId": "b4304003-cf05-46ce-ff67-5f68d1d5c44a"
   },
   "outputs": [
    {
     "name": "stdout",
     "output_type": "stream",
     "text": [
      "Train on 45000 samples, validate on 15000 samples\n",
      "Epoch 1/10\n",
      "45000/45000 [==============================] - 22s 479us/sample - loss: 0.3333 - accuracy: 0.8977 - val_loss: 0.1419 - val_accuracy: 0.9577\n",
      "Epoch 2/10\n",
      "45000/45000 [==============================] - 21s 458us/sample - loss: 0.1734 - accuracy: 0.9454 - val_loss: 0.1142 - val_accuracy: 0.9653\n",
      "Epoch 3/10\n",
      "45000/45000 [==============================] - 21s 458us/sample - loss: 0.1370 - accuracy: 0.9577 - val_loss: 0.0930 - val_accuracy: 0.9715\n",
      "Epoch 4/10\n",
      "45000/45000 [==============================] - 21s 458us/sample - loss: 0.1175 - accuracy: 0.9627 - val_loss: 0.0903 - val_accuracy: 0.9720\n",
      "Epoch 5/10\n",
      "45000/45000 [==============================] - 20s 453us/sample - loss: 0.1022 - accuracy: 0.9671 - val_loss: 0.0843 - val_accuracy: 0.9746\n",
      "Epoch 6/10\n",
      "45000/45000 [==============================] - 21s 464us/sample - loss: 0.0950 - accuracy: 0.9712 - val_loss: 0.0905 - val_accuracy: 0.9729\n",
      "Epoch 7/10\n",
      "45000/45000 [==============================] - 21s 463us/sample - loss: 0.0827 - accuracy: 0.9747 - val_loss: 0.0845 - val_accuracy: 0.9741\n",
      "Epoch 8/10\n",
      "45000/45000 [==============================] - 21s 462us/sample - loss: 0.0744 - accuracy: 0.9765 - val_loss: 0.0801 - val_accuracy: 0.9757\n",
      "Epoch 9/10\n",
      "45000/45000 [==============================] - 21s 456us/sample - loss: 0.0709 - accuracy: 0.9780 - val_loss: 0.0844 - val_accuracy: 0.9750\n",
      "Epoch 10/10\n",
      "45000/45000 [==============================] - 21s 462us/sample - loss: 0.0637 - accuracy: 0.9800 - val_loss: 0.0742 - val_accuracy: 0.9785\n",
      "10000/1 - 1s - loss: 0.0299 - accuracy: 0.9821\n",
      "\n",
      "Test accuracy: 0.9821\n"
     ]
    },
    {
     "data": {
      "image/png": "[encoded data removed]",
      "text/plain": [
       "<Figure size 432x288 with 1 Axes>"
      ]
     },
     "metadata": {
      "tags": []
     },
     "output_type": "display_data"
    }
   ],
   "source": [
    "#With Drop out and Batch Normalization after two layers\n",
    "\n",
    "model = keras.Sequential([\n",
    "    keras.layers.Flatten(input_shape=(28, 28)),\n",
    "    keras.layers.Dense(1024,activation='relu'),\n",
    "    keras.layers.Dropout(0.5),\n",
    "    keras.layers.Dense(256,activation='relu'),\n",
    "    keras.layers.BatchNormalization(),\n",
    "    keras.layers.Dense(32, activation='relu'),\n",
    "    keras.layers.Dense(10, activation='softmax')\n",
    "])\n",
    "\n",
    "model.compile(optimizer='adam',\n",
    "              loss='sparse_categorical_crossentropy',\n",
    "              metrics=['accuracy'])\n",
    "\n",
    "history = model.fit(train_images, train_labels, epochs=10,validation_split=0.25)\n",
    "\n",
    "test_loss, test_acc = model.evaluate(test_images,  test_labels, verbose=2)\n",
    "\n",
    "print('\\nTest accuracy:', test_acc)\n",
    "\n",
    "plt.plot(history.history['loss'])\n",
    "plt.plot(history.history['val_loss'])\n",
    "plt.title('ERROR PLOT Loss vs Epoch')\n",
    "plt.ylabel('LOSS')\n",
    "plt.xlabel('EPOCH')\n",
    "plt.legend(['train', 'test'], loc='upper left')\n",
    "plt.show()"
   ]
  },
  {
   "cell_type": "markdown",
   "metadata": {
    "colab_type": "text",
    "id": "ZHmo1Lkuejp6"
   },
   "source": [
    "**ARCHITECTURE 3: :Input(784) + RELU(1024) + RELU(512) + RELU (256) + RELU (8) + RELU(16) SOFTMAX(10)**"
   ]
  },
  {
   "cell_type": "code",
   "execution_count": 111,
   "metadata": {
    "colab": {
     "base_uri": "https://localhost:8080/",
     "height": 703
    },
    "colab_type": "code",
    "id": "cLFVBv9hfSVq",
    "outputId": "4feca81b-33cc-449a-ee99-c89e5587c277"
   },
   "outputs": [
    {
     "name": "stdout",
     "output_type": "stream",
     "text": [
      "Train on 45000 samples, validate on 15000 samples\n",
      "Epoch 1/10\n",
      "45000/45000 [==============================] - 30s 663us/sample - loss: 0.2943 - accuracy: 0.9138 - val_loss: 0.1975 - val_accuracy: 0.9485\n",
      "Epoch 2/10\n",
      "45000/45000 [==============================] - 30s 657us/sample - loss: 0.1113 - accuracy: 0.9683 - val_loss: 0.1235 - val_accuracy: 0.9658\n",
      "Epoch 3/10\n",
      "45000/45000 [==============================] - 29s 655us/sample - loss: 0.0758 - accuracy: 0.9790 - val_loss: 0.1169 - val_accuracy: 0.9690\n",
      "Epoch 4/10\n",
      "45000/45000 [==============================] - 29s 654us/sample - loss: 0.0636 - accuracy: 0.9823 - val_loss: 0.1054 - val_accuracy: 0.9707\n",
      "Epoch 5/10\n",
      "45000/45000 [==============================] - 30s 658us/sample - loss: 0.0494 - accuracy: 0.9864 - val_loss: 0.1332 - val_accuracy: 0.9642\n",
      "Epoch 6/10\n",
      "45000/45000 [==============================] - 29s 652us/sample - loss: 0.0412 - accuracy: 0.9886 - val_loss: 0.1165 - val_accuracy: 0.9708\n",
      "Epoch 7/10\n",
      "45000/45000 [==============================] - 29s 651us/sample - loss: 0.0362 - accuracy: 0.9897 - val_loss: 0.1135 - val_accuracy: 0.9738\n",
      "Epoch 8/10\n",
      "45000/45000 [==============================] - 30s 658us/sample - loss: 0.0327 - accuracy: 0.9902 - val_loss: 0.1294 - val_accuracy: 0.9713\n",
      "Epoch 9/10\n",
      "45000/45000 [==============================] - 30s 667us/sample - loss: 0.0237 - accuracy: 0.9938 - val_loss: 0.1473 - val_accuracy: 0.9704\n",
      "Epoch 10/10\n",
      "45000/45000 [==============================] - 30s 656us/sample - loss: 0.0249 - accuracy: 0.9932 - val_loss: 0.1415 - val_accuracy: 0.9729\n",
      "10000/1 - 2s - loss: 0.0600 - accuracy: 0.9762\n",
      "\n",
      "Test accuracy: 0.9762\n"
     ]
    },
    {
     "data": {
      "image/png": "[encoded data removed]",
      "text/plain": [
       "<Figure size 432x288 with 1 Axes>"
      ]
     },
     "metadata": {
      "tags": []
     },
     "output_type": "display_data"
    }
   ],
   "source": [
    "#Without any dropout and bach normalization\n",
    "\n",
    "model = keras.Sequential([\n",
    "    keras.layers.Flatten(input_shape=(28, 28)),\n",
    "    keras.layers.Dense(1024,activation='relu'),\n",
    "    keras.layers.Dense(512,activation='relu'),\n",
    "    keras.layers.Dense(256,activation='relu'),\n",
    "    keras.layers.Dense(8,activation='relu'),\n",
    "    keras.layers.Dense(16, activation='relu'),\n",
    "    keras.layers.Dense(10, activation='softmax')\n",
    "])\n",
    "\n",
    "model.compile(optimizer='adam',\n",
    "              loss='sparse_categorical_crossentropy',\n",
    "              metrics=['accuracy'])\n",
    "\n",
    "history = model.fit(train_images, train_labels, epochs=10,validation_split=0.25)\n",
    "\n",
    "test_loss, test_acc = model.evaluate(test_images,  test_labels, verbose=2)\n",
    "\n",
    "print('\\nTest accuracy:', test_acc)\n",
    "\n",
    "plt.plot(history.history['loss'])\n",
    "plt.plot(history.history['val_loss'])\n",
    "plt.title('ERROR PLOT Loss vs Epoch')\n",
    "plt.ylabel('LOSS')\n",
    "plt.xlabel('EPOCH')\n",
    "plt.legend(['train', 'test'], loc='upper left')\n",
    "plt.show()"
   ]
  },
  {
   "cell_type": "code",
   "execution_count": 115,
   "metadata": {
    "colab": {
     "base_uri": "https://localhost:8080/",
     "height": 703
    },
    "colab_type": "code",
    "id": "ycjkhR79fiBz",
    "outputId": "b80251c9-0bd0-48c4-9300-a198120ed8df"
   },
   "outputs": [
    {
     "name": "stdout",
     "output_type": "stream",
     "text": [
      "Train on 45000 samples, validate on 15000 samples\n",
      "Epoch 1/10\n",
      "45000/45000 [==============================] - 32s 703us/sample - loss: 0.5236 - accuracy: 0.8376 - val_loss: 0.1867 - val_accuracy: 0.9494\n",
      "Epoch 2/10\n",
      "45000/45000 [==============================] - 31s 695us/sample - loss: 0.2294 - accuracy: 0.9377 - val_loss: 0.1470 - val_accuracy: 0.9600\n",
      "Epoch 3/10\n",
      "45000/45000 [==============================] - 31s 689us/sample - loss: 0.1852 - accuracy: 0.9490 - val_loss: 0.1335 - val_accuracy: 0.9633\n",
      "Epoch 4/10\n",
      "45000/45000 [==============================] - 31s 699us/sample - loss: 0.1588 - accuracy: 0.9577 - val_loss: 0.1245 - val_accuracy: 0.9676\n",
      "Epoch 5/10\n",
      "45000/45000 [==============================] - 31s 695us/sample - loss: 0.1486 - accuracy: 0.9613 - val_loss: 0.1112 - val_accuracy: 0.9696\n",
      "Epoch 6/10\n",
      "45000/45000 [==============================] - 31s 692us/sample - loss: 0.1291 - accuracy: 0.9650 - val_loss: 0.1120 - val_accuracy: 0.9720\n",
      "Epoch 7/10\n",
      "45000/45000 [==============================] - 31s 693us/sample - loss: 0.1206 - accuracy: 0.9671 - val_loss: 0.1072 - val_accuracy: 0.9727\n",
      "Epoch 8/10\n",
      "45000/45000 [==============================] - 32s 701us/sample - loss: 0.1130 - accuracy: 0.9693 - val_loss: 0.1257 - val_accuracy: 0.9691\n",
      "Epoch 9/10\n",
      "45000/45000 [==============================] - 31s 692us/sample - loss: 0.1043 - accuracy: 0.9725 - val_loss: 0.1061 - val_accuracy: 0.9755\n",
      "Epoch 10/10\n",
      "45000/45000 [==============================] - 31s 692us/sample - loss: 0.1025 - accuracy: 0.9734 - val_loss: 0.1017 - val_accuracy: 0.9741\n",
      "10000/1 - 2s - loss: 0.0447 - accuracy: 0.9780\n",
      "\n",
      "Test accuracy: 0.978\n"
     ]
    },
    {
     "data": {
      "image/png": "[encoded data removed]",
      "text/plain": [
       "<Figure size 432x288 with 1 Axes>"
      ]
     },
     "metadata": {
      "tags": []
     },
     "output_type": "display_data"
    }
   ],
   "source": [
    "#With dropout\n",
    "\n",
    "model = keras.Sequential([\n",
    "    keras.layers.Flatten(input_shape=(28, 28)),\n",
    "    keras.layers.Dense(1024,activation='relu'),\n",
    "    keras.layers.Dropout(0.5),\n",
    "    keras.layers.Dense(512,activation='relu'),\n",
    "    keras.layers.Dropout(0.5),\n",
    "    keras.layers.Dense(256,activation='relu'),\n",
    "    keras.layers.Dropout(0.5),\n",
    "    keras.layers.Dense(8,activation='relu'),\n",
    "    keras.layers.Dense(16, activation='relu'),\n",
    "    keras.layers.Dense(10, activation='softmax')\n",
    "])\n",
    "\n",
    "model.compile(optimizer='adam',\n",
    "              loss='sparse_categorical_crossentropy',\n",
    "              metrics=['accuracy'])\n",
    "\n",
    "history = model.fit(train_images, train_labels, epochs=10,validation_split=0.25)\n",
    "\n",
    "test_loss, test_acc = model.evaluate(test_images,  test_labels, verbose=2)\n",
    "\n",
    "print('\\nTest accuracy:', test_acc)\n",
    "\n",
    "plt.plot(history.history['loss'])\n",
    "plt.plot(history.history['val_loss'])\n",
    "plt.title('ERROR PLOT Loss vs Epoch')\n",
    "plt.ylabel('LOSS')\n",
    "plt.xlabel('EPOCH')\n",
    "plt.legend(['train', 'test'], loc='upper left')\n",
    "plt.show()"
   ]
  },
  {
   "cell_type": "code",
   "execution_count": 116,
   "metadata": {
    "colab": {
     "base_uri": "https://localhost:8080/",
     "height": 703
    },
    "colab_type": "code",
    "id": "WcuZc95hfiUP",
    "outputId": "5cd597eb-7ec8-4c67-c6dc-aaa09bc03bbb"
   },
   "outputs": [
    {
     "name": "stdout",
     "output_type": "stream",
     "text": [
      "Train on 45000 samples, validate on 15000 samples\n",
      "Epoch 1/10\n",
      "45000/45000 [==============================] - 33s 741us/sample - loss: 0.6664 - accuracy: 0.7878 - val_loss: 0.1964 - val_accuracy: 0.9459\n",
      "Epoch 2/10\n",
      "45000/45000 [==============================] - 32s 714us/sample - loss: 0.2576 - accuracy: 0.9289 - val_loss: 0.1347 - val_accuracy: 0.9629\n",
      "Epoch 3/10\n",
      "45000/45000 [==============================] - 32s 714us/sample - loss: 0.1983 - accuracy: 0.9444 - val_loss: 0.1287 - val_accuracy: 0.9627\n",
      "Epoch 4/10\n",
      "45000/45000 [==============================] - 32s 711us/sample - loss: 0.1621 - accuracy: 0.9547 - val_loss: 0.1194 - val_accuracy: 0.9663\n",
      "Epoch 5/10\n",
      "45000/45000 [==============================] - 32s 712us/sample - loss: 0.1515 - accuracy: 0.9587 - val_loss: 0.1139 - val_accuracy: 0.9671\n",
      "Epoch 6/10\n",
      "45000/45000 [==============================] - 32s 719us/sample - loss: 0.1312 - accuracy: 0.9640 - val_loss: 0.1039 - val_accuracy: 0.9714\n",
      "Epoch 7/10\n",
      "45000/45000 [==============================] - 32s 708us/sample - loss: 0.1181 - accuracy: 0.9674 - val_loss: 0.0955 - val_accuracy: 0.9731\n",
      "Epoch 8/10\n",
      "45000/45000 [==============================] - 32s 711us/sample - loss: 0.1035 - accuracy: 0.9703 - val_loss: 0.1043 - val_accuracy: 0.9715\n",
      "Epoch 9/10\n",
      "45000/45000 [==============================] - 32s 701us/sample - loss: 0.0999 - accuracy: 0.9728 - val_loss: 0.0847 - val_accuracy: 0.9771\n",
      "Epoch 10/10\n",
      "45000/45000 [==============================] - 32s 706us/sample - loss: 0.0926 - accuracy: 0.9750 - val_loss: 0.0895 - val_accuracy: 0.9758\n",
      "10000/1 - 2s - loss: 0.0362 - accuracy: 0.9805\n",
      "\n",
      "Test accuracy: 0.9805\n"
     ]
    },
    {
     "data": {
      "image/png": "[encoded data removed]",
      "text/plain": [
       "<Figure size 432x288 with 1 Axes>"
      ]
     },
     "metadata": {
      "tags": []
     },
     "output_type": "display_data"
    }
   ],
   "source": [
    "#With dropout and bach normalization\n",
    "\n",
    "model = keras.Sequential([\n",
    "    keras.layers.Flatten(input_shape=(28, 28)),\n",
    "    keras.layers.Dense(1024,activation='relu'),\n",
    "    keras.layers.Dropout(0.5),\n",
    "    keras.layers.Dense(512,activation='relu'),\n",
    "    keras.layers.Dropout(0.5),\n",
    "    keras.layers.Dense(256,activation='relu'),\n",
    "    keras.layers.Dropout(0.5),\n",
    "    keras.layers.BatchNormalization(),\n",
    "    keras.layers.Dense(8,activation='relu'),\n",
    "    keras.layers.Dense(16, activation='relu'),\n",
    "    keras.layers.Dense(10, activation='softmax')\n",
    "])\n",
    "\n",
    "model.compile(optimizer='adam',\n",
    "              loss='sparse_categorical_crossentropy',\n",
    "              metrics=['accuracy'])\n",
    "\n",
    "history = model.fit(train_images, train_labels, epochs=10,validation_split=0.25)\n",
    "\n",
    "test_loss, test_acc = model.evaluate(test_images,  test_labels, verbose=2)\n",
    "\n",
    "print('\\nTest accuracy:', test_acc)\n",
    "\n",
    "plt.plot(history.history['loss'])\n",
    "plt.plot(history.history['val_loss'])\n",
    "plt.title('ERROR PLOT Loss vs Epoch')\n",
    "plt.ylabel('LOSS')\n",
    "plt.xlabel('EPOCH')\n",
    "plt.legend(['train', 'test'], loc='upper left')\n",
    "plt.show()"
   ]
  },
  {
   "cell_type": "markdown",
   "metadata": {
    "colab_type": "text",
    "id": "plWTjhi71m4s"
   },
   "source": [
    "**OBSERVATIONS:**"
   ]
  },
  {
   "cell_type": "markdown",
   "metadata": {
    "colab_type": "text",
    "id": "GEBn-UT-zehg"
   },
   "source": [
    "1. Without Batch Normalization and Drop out the training loss seems to be varying in the loss. It is incresing and decreasing randomly with number of epoches in all three architectures.\n",
    "2. With out drop out layer the model is appearing as overfitiing the datapoints.\n",
    "3. Batch Normalization in deeper layers is better than in initial layers.\n",
    "4. A good dropout rate of 0.5  with 3 hidden layers is performing faster and giving better accuracy whereas the model with 5 hidden layers with dropout layer giving similar accuracy."
   ]
  }
 ],
 "metadata": {
  "colab": {
   "collapsed_sections": [],
   "name": "moulisai.2296@gmail.com_12",
   "provenance": []
  },
  "kernelspec": {
   "display_name": "Python 3",
   "language": "python",
   "name": "python3"
  },
  "language_info": {
   "codemirror_mode": {
    "name": "ipython",
    "version": 3
   },
   "file_extension": ".py",
   "mimetype": "text/x-python",
   "name": "python",
   "nbconvert_exporter": "python",
   "pygments_lexer": "ipython3",
   "version": "3.6.8"
  }
 },
 "nbformat": 4,
 "nbformat_minor": 1
}

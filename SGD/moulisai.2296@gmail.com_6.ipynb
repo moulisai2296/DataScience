{
 "cells": [
  {
   "cell_type": "markdown",
   "metadata": {},
   "source": [
    "# Assignment 6: Implement SGD for linear regression"
   ]
  },
  {
   "cell_type": "markdown",
   "metadata": {},
   "source": [
    "### Tasks to be done:"
   ]
  },
  {
   "cell_type": "markdown",
   "metadata": {},
   "source": [
    "1. Please check the problem statement at https://www.appliedaicourse.com/lecture/11/applied-machine-learning-online-course/3044/assignment-6-implement-sgd-for-linear-regression/3/module-3-foundations-of-natural-language-processing-and-machine-learning\n",
    "2. Implement your own version of sklearn SGDRegresser (http://scikit-learn.org/stable/modules/generated/sklearn.linear_model.SGDRegressor.html)\n",
    "3. Plot a chart of predicted values Vs actual values of your own SGD Implementation\n",
    "4. Now try out the SGDRegresser of sklearn and plot the chart of predicted values Vs actual values\n",
    "5. In a tabular format, compare the weights obtained from your own implementation with the weights obtained after applying sklearn's SGDRegresser.\n",
    "6. Also compare the MSE obtained from your custom implementation of SGDRegressor and that of sklearns implementation.\n",
    "7. Try to get the weights & MSE of your custom implementation, similar to the weights and MSE of sklearns implementation."
   ]
  },
  {
   "cell_type": "code",
   "execution_count": 37,
   "metadata": {
    "colab": {},
    "colab_type": "code",
    "id": "REYPoTJ1Af7u"
   },
   "outputs": [],
   "source": [
    "import warnings\n",
    "warnings.filterwarnings(\"ignore\")\n",
    "from sklearn.datasets import load_boston\n",
    "from random import seed\n",
    "from random import randrange\n",
    "from csv import reader\n",
    "from math import sqrt\n",
    "from sklearn import preprocessing\n",
    "import pandas as pd\n",
    "import numpy as np\n",
    "import matplotlib.pyplot as plt\n",
    "from prettytable import PrettyTable\n",
    "from sklearn.linear_model import SGDRegressor\n",
    "from sklearn import preprocessing\n",
    "from sklearn.metrics import mean_squared_error"
   ]
  },
  {
   "cell_type": "markdown",
   "metadata": {},
   "source": [
    "## 1. SGDRegresser of sklearn"
   ]
  },
  {
   "cell_type": "markdown",
   "metadata": {},
   "source": [
    "### (a) Loading data"
   ]
  },
  {
   "cell_type": "code",
   "execution_count": 38,
   "metadata": {
    "colab": {},
    "colab_type": "code",
    "id": "NTQ2iH-kAwbo"
   },
   "outputs": [
    {
     "name": "stdout",
     "output_type": "stream",
     "text": [
      ".. _boston_dataset:\n",
      "\n",
      "Boston house prices dataset\n",
      "---------------------------\n",
      "\n",
      "**Data Set Characteristics:**  \n",
      "\n",
      "    :Number of Instances: 506 \n",
      "\n",
      "    :Number of Attributes: 13 numeric/categorical predictive. Median Value (attribute 14) is usually the target.\n",
      "\n",
      "    :Attribute Information (in order):\n",
      "        - CRIM     per capita crime rate by town\n",
      "        - ZN       proportion of residential land zoned for lots over 25,000 sq.ft.\n",
      "        - INDUS    proportion of non-retail business acres per town\n",
      "        - CHAS     Charles River dummy variable (= 1 if tract bounds river; 0 otherwise)\n",
      "        - NOX      nitric oxides concentration (parts per 10 million)\n",
      "        - RM       average number of rooms per dwelling\n",
      "        - AGE      proportion of owner-occupied units built prior to 1940\n",
      "        - DIS      weighted distances to five Boston employment centres\n",
      "        - RAD      index of accessibility to radial highways\n",
      "        - TAX      full-value property-tax rate per $10,000\n",
      "        - PTRATIO  pupil-teacher ratio by town\n",
      "        - B        1000(Bk - 0.63)^2 where Bk is the proportion of blacks by town\n",
      "        - LSTAT    % lower status of the population\n",
      "        - MEDV     Median value of owner-occupied homes in $1000's\n",
      "\n",
      "    :Missing Attribute Values: None\n",
      "\n",
      "    :Creator: Harrison, D. and Rubinfeld, D.L.\n",
      "\n",
      "This is a copy of UCI ML housing dataset.\n",
      "https://archive.ics.uci.edu/ml/machine-learning-databases/housing/\n",
      "\n",
      "\n",
      "This dataset was taken from the StatLib library which is maintained at Carnegie Mellon University.\n",
      "\n",
      "The Boston house-price data of Harrison, D. and Rubinfeld, D.L. 'Hedonic\n",
      "prices and the demand for clean air', J. Environ. Economics & Management,\n",
      "vol.5, 81-102, 1978.   Used in Belsley, Kuh & Welsch, 'Regression diagnostics\n",
      "...', Wiley, 1980.   N.B. Various transformations are used in the table on\n",
      "pages 244-261 of the latter.\n",
      "\n",
      "The Boston house-price data has been used in many machine learning papers that address regression\n",
      "problems.   \n",
      "     \n",
      ".. topic:: References\n",
      "\n",
      "   - Belsley, Kuh & Welsch, 'Regression diagnostics: Identifying Influential Data and Sources of Collinearity', Wiley, 1980. 244-261.\n",
      "   - Quinlan,R. (1993). Combining Instance-Based and Model-Based Learning. In Proceedings on the Tenth International Conference of Machine Learning, 236-243, University of Massachusetts, Amherst. Morgan Kaufmann.\n",
      "\n"
     ]
    }
   ],
   "source": [
    "# Describing the Boston data\n",
    "boston = load_boston()\n",
    "print(boston.DESCR)\n",
    "features = list(boston.feature_names)"
   ]
  },
  {
   "cell_type": "code",
   "execution_count": 39,
   "metadata": {},
   "outputs": [],
   "source": [
    "X = pd.DataFrame(boston.data)\n",
    "Y = pd.Series(boston.target)"
   ]
  },
  {
   "cell_type": "code",
   "execution_count": 40,
   "metadata": {},
   "outputs": [
    {
     "name": "stdout",
     "output_type": "stream",
     "text": [
      "<class 'numpy.ndarray'>\n",
      "<class 'pandas.core.frame.DataFrame'>\n",
      "Shape of X (506, 13)\n",
      "Shape of Y (506, 1)\n"
     ]
    }
   ],
   "source": [
    "X.columns = features\n",
    "Y = np.array(Y).reshape(-1,1)\n",
    "print(type(Y))\n",
    "print(type(X))\n",
    "print(\"Shape of X\",X.shape)\n",
    "print(\"Shape of Y\",Y.shape)\n"
   ]
  },
  {
   "cell_type": "markdown",
   "metadata": {},
   "source": [
    "### (b) Standardasing the data "
   ]
  },
  {
   "cell_type": "code",
   "execution_count": 41,
   "metadata": {
    "colab": {},
    "colab_type": "code",
    "id": "FgUW39s6Be0U"
   },
   "outputs": [
    {
     "name": "stdout",
     "output_type": "stream",
     "text": [
      "<class 'numpy.ndarray'>\n",
      "Shape of X: (506, 13)\n"
     ]
    }
   ],
   "source": [
    "scaler = preprocessing.StandardScaler().fit(X)\n",
    "X_scaler = scaler.transform(X)\n",
    "print(type(X_scaler))\n",
    "print(\"Shape of X:\",X_scaler.shape)"
   ]
  },
  {
   "cell_type": "code",
   "execution_count": 42,
   "metadata": {},
   "outputs": [],
   "source": [
    "# train test split\n",
    "from sklearn.model_selection import train_test_split\n",
    "X_train, X_test, Y_train, Y_test = train_test_split(X_scaler, Y, test_size=0.33)"
   ]
  },
  {
   "cell_type": "markdown",
   "metadata": {},
   "source": [
    "### (c) Regression using SGDRegressor from SCIKITLearn"
   ]
  },
  {
   "cell_type": "code",
   "execution_count": 43,
   "metadata": {
    "colab": {
     "base_uri": "https://localhost:8080/",
     "height": 34
    },
    "colab_type": "code",
    "executionInfo": {
     "elapsed": 879,
     "status": "ok",
     "timestamp": 1545718892607,
     "user": {
      "displayName": "Applied AI Course",
      "photoUrl": "https://lh5.googleusercontent.com/-9_3A9F-kDXs/AAAAAAAAAAI/AAAAAAAAACw/IprjYvUuoXQ/s64/photo.jpg",
      "userId": "00484516897554883881"
     },
     "user_tz": -330
    },
    "id": "HNu1sXtEBBS2",
    "outputId": "a0c5d3d0-345c-4a34-8ccf-0d9f3d7d23fd"
   },
   "outputs": [
    {
     "name": "stdout",
     "output_type": "stream",
     "text": [
      "Mean Squared error on train data: 23.026617738952194\n",
      "Mean Squared error on test data: 23.87498248372573\n"
     ]
    }
   ],
   "source": [
    "clf = SGDRegressor()\n",
    "clf.fit(X_train, Y_train)\n",
    "\n",
    "Y_train_pred = clf.predict(X_train)\n",
    "Y_test_pred = clf.predict(X_test)\n",
    "mse_train_sgd = mean_squared_error(Y_train, Y_train_pred)\n",
    "print(\"Mean Squared error on train data:\",mse_train_sgd)\n",
    "mse_test_sgd = mean_squared_error(Y_test, Y_test_pred)\n",
    "print(\"Mean Squared error on test data:\",mse_test_sgd)\n",
    "\n"
   ]
  },
  {
   "cell_type": "markdown",
   "metadata": {},
   "source": [
    "#### Coefficients and intercept : "
   ]
  },
  {
   "cell_type": "code",
   "execution_count": 44,
   "metadata": {},
   "outputs": [
    {
     "name": "stdout",
     "output_type": "stream",
     "text": [
      "Co-efficients or weights on train data:  [-0.75289845  0.56695226 -0.97186168  1.10544631 -0.73486783  3.07931666\n",
      " -0.2836728  -2.32430194  1.00356253 -0.48851943 -1.45082856  1.03426082\n",
      " -3.45697279]\n",
      "Intercept :  [22.0134567]\n"
     ]
    }
   ],
   "source": [
    "print(\"Co-efficients or weights on train data: \",clf.coef_)\n",
    "print(\"Intercept : \",clf.intercept_ )"
   ]
  },
  {
   "cell_type": "markdown",
   "metadata": {},
   "source": [
    "### (d) Prices vs Predicted prices Plot  on TEST data"
   ]
  },
  {
   "cell_type": "code",
   "execution_count": 45,
   "metadata": {},
   "outputs": [
    {
     "data": {
      "image/png": "[encoded data removed]",
      "text/plain": [
       "<Figure size 432x288 with 1 Axes>"
      ]
     },
     "metadata": {
      "needs_background": "light"
     },
     "output_type": "display_data"
    }
   ],
   "source": [
    "plt.scatter(Y_test , Y_test_pred)\n",
    "plt.xlabel(\"Prices: $Y_i$\")\n",
    "plt.ylabel(\"Predicted prices: $\\hat{Y}_i$\")\n",
    "plt.title(\"Prices vs Predicted prices: $Y_i$ vs $\\hat{Y}_i$\")\n",
    "plt.show()"
   ]
  },
  {
   "cell_type": "markdown",
   "metadata": {},
   "source": [
    "# 2. Implement Own SGD for linear regression"
   ]
  },
  {
   "cell_type": "markdown",
   "metadata": {},
   "source": [
    "### (a) Loading data"
   ]
  },
  {
   "cell_type": "code",
   "execution_count": 46,
   "metadata": {},
   "outputs": [
    {
     "name": "stdout",
     "output_type": "stream",
     "text": [
      "Shape of train data with intercept coefficient:  (339, 14)\n",
      "Shape of test data with intercept coefficient:  (167, 14)\n"
     ]
    }
   ],
   "source": [
    "#adding intercept coefficients to all the points. It is always 1 i.e; W0 = 1\n",
    "X_train_b = np.c_[np.ones((X_train.shape[0], 1)), X_train] \n",
    "X_test_b = np.c_[np.ones((X_test.shape[0],1)),X_test]\n",
    "print(\"Shape of train data with intercept coefficient: \",X_train_b.shape)\n",
    "print(\"Shape of test data with intercept coefficient: \",X_test_b.shape)"
   ]
  },
  {
   "cell_type": "code",
   "execution_count": 47,
   "metadata": {},
   "outputs": [
    {
     "name": "stdout",
     "output_type": "stream",
     "text": [
      "Mean Squared errors on train data : 22.63488997174899\n"
     ]
    }
   ],
   "source": [
    "#Stochastic Gradient Descent\n",
    "#https://www.oreilly.com/library/view/hands-on-machine-learning/9781491962282/ch04.html\n",
    "#Reference book Hands-On Machine Learning with Scikit-Learn and TensorFlow by Aurélien Géron\n",
    "\n",
    "n_epochs = 50   #Initializing number of times we are looking into the data\n",
    "t0, t1 = 5, 50  # learning schedule hyperparameters\n",
    "def learning_schedule(t):\n",
    "    return t0 / (t + t1)\n",
    "n = X_train_b.shape[0]\n",
    "W = np.random.randn(X_train_b.shape[1],1)  # random initialization\n",
    "mse_list = []\n",
    "y_ownpred_train = []\n",
    "for epoch in range(n_epochs):\n",
    "    for i in range(n):\n",
    "        random_index = np.random.randint(n)            #picking a random number from X_train_b\n",
    "        xi = X_train_b[random_index:random_index+1]    #selecting only one datapoint for each iteration randomly (k =1)\n",
    "        yi = Y_train[random_index:random_index+1]  \n",
    "        #calculating partial derivative where matrix shapes xi(1x14),yi(1x1),W(14x1) in each iteration\n",
    "        gradients = 2 * xi.T.dot(xi.dot(W) - yi)\n",
    "        # choosing different learning rates in each iteration to overcome oscillations around minima\n",
    "        lr = learning_schedule(epoch * n + i)    \n",
    "        W = W - lr * gradients\n",
    "    Y_pred = X_train_b.dot(W)\n",
    "    mse_train_own = mean_squared_error(Y_train, Y_pred)\n",
    "    mse_list.append(mse_train_own)\n",
    "print(\"Mean Squared errors on train data :\",mse_train_own)\n",
    "\n",
    "\n",
    "        "
   ]
  },
  {
   "cell_type": "code",
   "execution_count": 48,
   "metadata": {},
   "outputs": [
    {
     "name": "stdout",
     "output_type": "stream",
     "text": [
      "[382.00276641220023, 101.78628284914764, 59.75977123152382, 48.035501734578965, 39.044782055952886, 34.80573822903285, 32.39139187772214, 30.230242748267536, 29.08605174790497, 28.354870554270242, 27.1464421243319, 27.529562663198963, 26.571021135688046, 25.56735899643081, 25.3197715036439, 25.055468747921033, 25.672059041353116, 24.651258168885036, 24.301281491558342, 24.428304900908987, 24.123588904823027, 23.962526332515818, 23.78287213495516, 23.72776249179641, 23.7331026286678, 23.804429871034706, 23.494395854100198, 23.375626074811567, 23.265062773023356, 23.208409685214335, 23.32217414080563, 23.181146842461974, 23.241110140179348, 23.322096693305824, 23.066422699173025, 22.94275460485332, 22.984659067727485, 22.924527198424943, 22.934567285638533, 23.091884815128502, 22.803687678969595, 22.868982821930995, 22.859054914841696, 22.88958202864231, 22.781288769438177, 22.647750989146424, 22.625609650752203, 22.614786404534794, 22.654622601528114, 22.63488997174899]\n"
     ]
    }
   ],
   "source": [
    "print(mse_list)"
   ]
  },
  {
   "cell_type": "markdown",
   "metadata": {},
   "source": [
    "### OWN coefficients : "
   ]
  },
  {
   "cell_type": "code",
   "execution_count": 49,
   "metadata": {},
   "outputs": [
    {
     "name": "stdout",
     "output_type": "stream",
     "text": [
      "[[22.75200375]\n",
      " [-0.95448147]\n",
      " [ 0.84984325]\n",
      " [-0.9611782 ]\n",
      " [ 1.35643124]\n",
      " [-1.54757795]\n",
      " [ 3.04973644]\n",
      " [-0.36522738]\n",
      " [-3.39645227]\n",
      " [ 0.32260407]\n",
      " [ 0.82724749]\n",
      " [-1.8828572 ]\n",
      " [ 0.89041569]\n",
      " [-3.78420379]]\n",
      "***************************************************************************\n",
      "The intercept :  [22.75200375]\n",
      "The coefficients :  [[-0.95448147]\n",
      " [ 0.84984325]\n",
      " [-0.9611782 ]\n",
      " [ 1.35643124]\n",
      " [-1.54757795]\n",
      " [ 3.04973644]\n",
      " [-0.36522738]\n",
      " [-3.39645227]\n",
      " [ 0.32260407]\n",
      " [ 0.82724749]\n",
      " [-1.8828572 ]\n",
      " [ 0.89041569]\n",
      " [-3.78420379]]\n"
     ]
    }
   ],
   "source": [
    "print(W)\n",
    "print(\"*\"*75)\n",
    "print(\"The intercept : \", W[0]) \n",
    "print(\"The coefficients : \", W[1:]) \n"
   ]
  },
  {
   "cell_type": "markdown",
   "metadata": {},
   "source": [
    "### SKlearn Coefficients:"
   ]
  },
  {
   "cell_type": "code",
   "execution_count": 50,
   "metadata": {},
   "outputs": [
    {
     "name": "stdout",
     "output_type": "stream",
     "text": [
      "The coefficeints using SKlearn : [-0.75289845  0.56695226 -0.97186168  1.10544631 -0.73486783  3.07931666\n",
      " -0.2836728  -2.32430194  1.00356253 -0.48851943 -1.45082856  1.03426082\n",
      " -3.45697279]\n",
      "The intercept usong SKlearn [22.0134567]\n"
     ]
    }
   ],
   "source": [
    "coef_sgd = clf.coef_\n",
    "print(\"The coefficeints using SKlearn :\",coef_sgd)\n",
    "intercept_sgd = clf.intercept_\n",
    "print(\"The intercept usong SKlearn\",intercept_sgd)"
   ]
  },
  {
   "cell_type": "markdown",
   "metadata": {},
   "source": [
    "### Predicting output variables using OWN Coefficients:"
   ]
  },
  {
   "cell_type": "code",
   "execution_count": 51,
   "metadata": {},
   "outputs": [],
   "source": [
    "Y_own_testpred = X_test_b.dot(W)\n",
    "mse_test_own = mean_squared_error(Y_test, Y_own_testpred)"
   ]
  },
  {
   "cell_type": "markdown",
   "metadata": {},
   "source": [
    "### Prices vs Predicted prices Plot "
   ]
  },
  {
   "cell_type": "code",
   "execution_count": 52,
   "metadata": {},
   "outputs": [
    {
     "data": {
      "image/png": "[encoded data removed]",
      "text/plain": [
       "<Figure size 432x288 with 1 Axes>"
      ]
     },
     "metadata": {
      "needs_background": "light"
     },
     "output_type": "display_data"
    }
   ],
   "source": [
    "plt.scatter(Y_test, Y_own_testpred)\n",
    "plt.xlabel(\"Prices: $Y_i$\")\n",
    "plt.ylabel(\"Predicted prices: $\\hat{Y}_i$\")\n",
    "plt.title(\"Prices vs Predicted prices: $Y_i$ vs $\\hat{Y}_i$\")\n",
    "plt.show()"
   ]
  },
  {
   "cell_type": "code",
   "execution_count": 53,
   "metadata": {},
   "outputs": [
    {
     "name": "stdout",
     "output_type": "stream",
     "text": [
      "Mean Squared error on Train data with SGD SKLearn: 23.026617738952194\n",
      "Mean Squared error on Test data on custom implementation: 23.87498248372573\n",
      "Mean Squared errors on train data on own implementation: 22.63488997174899\n",
      "Mean Squared errors on test data on own implementation: 25.097869976703205\n"
     ]
    }
   ],
   "source": [
    "print(\"Mean Squared error on Train data with SGD SKLearn:\",mse_train_sgd)\n",
    "print(\"Mean Squared error on Test data on custom implementation:\",mse_test_sgd)\n",
    "print(\"Mean Squared errors on train data on own implementation:\",mse_train_own)\n",
    "print(\"Mean Squared errors on test data on own implementation:\",mse_test_own)"
   ]
  },
  {
   "cell_type": "markdown",
   "metadata": {},
   "source": [
    "# Summarising the results"
   ]
  },
  {
   "cell_type": "code",
   "execution_count": 54,
   "metadata": {},
   "outputs": [
    {
     "name": "stdout",
     "output_type": "stream",
     "text": [
      "+---------------------------------+--------------------+\n",
      "|             Field 1             |      Field 2       |\n",
      "+---------------------------------+--------------------+\n",
      "| MSE on train data of SKIKIT SGD | 23.026617738952194 |\n",
      "|  MSE on test data of SKIKIT SGD | 23.87498248372573  |\n",
      "|   MSE on train data of OWN SGD  | 22.63488997174899  |\n",
      "|   MSE on test data of OWN SGD   | 25.097869976703205 |\n",
      "+---------------------------------+--------------------+\n"
     ]
    }
   ],
   "source": [
    "#https://stackoverflow.com/questions/40368908/prettytable-make-use-of-list\n",
    "from prettytable import PrettyTable\n",
    "xtable = PrettyTable()\n",
    "xtable.add_row([\"MSE on train data of SKIKIT SGD\",mse_train_sgd])\n",
    "xtable.add_row([\"MSE on test data of SKIKIT SGD\",mse_test_sgd])\n",
    "xtable.add_row([\"MSE on train data of OWN SGD\",mse_train_own])\n",
    "xtable.add_row([\"MSE on test data of OWN SGD\",mse_test_own])\n",
    "print(xtable)\n",
    "\n"
   ]
  }
 ],
 "metadata": {
  "colab": {
   "name": "Untitled3.ipynb",
   "provenance": [],
   "version": "0.3.2"
  },
  "kernelspec": {
   "display_name": "Python 3",
   "language": "python",
   "name": "python3"
  },
  "language_info": {
   "codemirror_mode": {
    "name": "ipython",
    "version": 3
   },
   "file_extension": ".py",
   "mimetype": "text/x-python",
   "name": "python",
   "nbconvert_exporter": "python",
   "pygments_lexer": "ipython3",
   "version": "3.6.8"
  }
 },
 "nbformat": 4,
 "nbformat_minor": 1
}
